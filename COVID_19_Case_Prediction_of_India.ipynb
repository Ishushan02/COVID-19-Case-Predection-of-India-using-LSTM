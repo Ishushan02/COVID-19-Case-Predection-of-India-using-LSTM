{
  "nbformat": 4,
  "nbformat_minor": 0,
  "metadata": {
    "colab": {
      "name": "COVID 19 Case Prediction of India.ipynb",
      "provenance": [],
      "collapsed_sections": []
    },
    "kernelspec": {
      "name": "python3",
      "display_name": "Python 3"
    },
    "accelerator": "GPU"
  },
  "cells": [
    {
      "cell_type": "markdown",
      "metadata": {
        "id": "HYuhkCPeozKF"
      },
      "source": [
        "Importing all the Libraries to be used"
      ]
    },
    {
      "cell_type": "code",
      "metadata": {
        "id": "yLh-043weRh1"
      },
      "source": [
        "import tensorflow as tf\n",
        "from tensorflow import keras\n",
        "import pandas as pd\n",
        "import numpy as np"
      ],
      "execution_count": 3,
      "outputs": []
    },
    {
      "cell_type": "markdown",
      "metadata": {
        "id": "GwFNvToTpQCN"
      },
      "source": [
        "Importing the Dataset"
      ]
    },
    {
      "cell_type": "code",
      "metadata": {
        "colab": {
          "base_uri": "https://localhost:8080/",
          "height": 253
        },
        "id": "rCTIx_QHfw6-",
        "outputId": "e7e31705-547f-4980-a02c-4809acf20562"
      },
      "source": [
        "data  =pd.read_csv(\"COVID_19_CASES.csv\")\n",
        "data.head()"
      ],
      "execution_count": 16,
      "outputs": [
        {
          "output_type": "execute_result",
          "data": {
            "text/html": [
              "<div>\n",
              "<style scoped>\n",
              "    .dataframe tbody tr th:only-of-type {\n",
              "        vertical-align: middle;\n",
              "    }\n",
              "\n",
              "    .dataframe tbody tr th {\n",
              "        vertical-align: top;\n",
              "    }\n",
              "\n",
              "    .dataframe thead th {\n",
              "        text-align: right;\n",
              "    }\n",
              "</style>\n",
              "<table border=\"1\" class=\"dataframe\">\n",
              "  <thead>\n",
              "    <tr style=\"text-align: right;\">\n",
              "      <th></th>\n",
              "      <th>Province/State</th>\n",
              "      <th>Country/Region</th>\n",
              "      <th>Lat</th>\n",
              "      <th>Long</th>\n",
              "      <th>1/22/20</th>\n",
              "      <th>1/23/20</th>\n",
              "      <th>1/24/20</th>\n",
              "      <th>1/25/20</th>\n",
              "      <th>1/26/20</th>\n",
              "      <th>1/27/20</th>\n",
              "      <th>1/28/20</th>\n",
              "      <th>1/29/20</th>\n",
              "      <th>1/30/20</th>\n",
              "      <th>1/31/20</th>\n",
              "      <th>2/1/20</th>\n",
              "      <th>2/2/20</th>\n",
              "      <th>2/3/20</th>\n",
              "      <th>2/4/20</th>\n",
              "      <th>2/5/20</th>\n",
              "      <th>2/6/20</th>\n",
              "      <th>2/7/20</th>\n",
              "      <th>2/8/20</th>\n",
              "      <th>2/9/20</th>\n",
              "      <th>2/10/20</th>\n",
              "      <th>2/11/20</th>\n",
              "      <th>2/12/20</th>\n",
              "      <th>2/13/20</th>\n",
              "      <th>2/14/20</th>\n",
              "      <th>2/15/20</th>\n",
              "      <th>2/16/20</th>\n",
              "      <th>2/17/20</th>\n",
              "      <th>2/18/20</th>\n",
              "      <th>2/19/20</th>\n",
              "      <th>2/20/20</th>\n",
              "      <th>2/21/20</th>\n",
              "      <th>2/22/20</th>\n",
              "      <th>2/23/20</th>\n",
              "      <th>2/24/20</th>\n",
              "      <th>2/25/20</th>\n",
              "      <th>2/26/20</th>\n",
              "      <th>...</th>\n",
              "      <th>1/17/21</th>\n",
              "      <th>1/18/21</th>\n",
              "      <th>1/19/21</th>\n",
              "      <th>1/20/21</th>\n",
              "      <th>1/21/21</th>\n",
              "      <th>1/22/21</th>\n",
              "      <th>1/23/21</th>\n",
              "      <th>1/24/21</th>\n",
              "      <th>1/25/21</th>\n",
              "      <th>1/26/21</th>\n",
              "      <th>1/27/21</th>\n",
              "      <th>1/28/21</th>\n",
              "      <th>1/29/21</th>\n",
              "      <th>1/30/21</th>\n",
              "      <th>1/31/21</th>\n",
              "      <th>2/1/21</th>\n",
              "      <th>2/2/21</th>\n",
              "      <th>2/3/21</th>\n",
              "      <th>2/4/21</th>\n",
              "      <th>2/5/21</th>\n",
              "      <th>2/6/21</th>\n",
              "      <th>2/7/21</th>\n",
              "      <th>2/8/21</th>\n",
              "      <th>2/9/21</th>\n",
              "      <th>2/10/21</th>\n",
              "      <th>2/11/21</th>\n",
              "      <th>2/12/21</th>\n",
              "      <th>2/13/21</th>\n",
              "      <th>2/14/21</th>\n",
              "      <th>2/15/21</th>\n",
              "      <th>2/16/21</th>\n",
              "      <th>2/17/21</th>\n",
              "      <th>2/18/21</th>\n",
              "      <th>2/19/21</th>\n",
              "      <th>2/20/21</th>\n",
              "      <th>2/21/21</th>\n",
              "      <th>2/22/21</th>\n",
              "      <th>2/23/21</th>\n",
              "      <th>2/24/21</th>\n",
              "      <th>2/25/21</th>\n",
              "    </tr>\n",
              "  </thead>\n",
              "  <tbody>\n",
              "    <tr>\n",
              "      <th>0</th>\n",
              "      <td>NaN</td>\n",
              "      <td>Afghanistan</td>\n",
              "      <td>33.93911</td>\n",
              "      <td>67.709953</td>\n",
              "      <td>0</td>\n",
              "      <td>0</td>\n",
              "      <td>0</td>\n",
              "      <td>0</td>\n",
              "      <td>0</td>\n",
              "      <td>0</td>\n",
              "      <td>0</td>\n",
              "      <td>0</td>\n",
              "      <td>0</td>\n",
              "      <td>0</td>\n",
              "      <td>0</td>\n",
              "      <td>0</td>\n",
              "      <td>0</td>\n",
              "      <td>0</td>\n",
              "      <td>0</td>\n",
              "      <td>0</td>\n",
              "      <td>0</td>\n",
              "      <td>0</td>\n",
              "      <td>0</td>\n",
              "      <td>0</td>\n",
              "      <td>0</td>\n",
              "      <td>0</td>\n",
              "      <td>0</td>\n",
              "      <td>0</td>\n",
              "      <td>0</td>\n",
              "      <td>0</td>\n",
              "      <td>0</td>\n",
              "      <td>0</td>\n",
              "      <td>0</td>\n",
              "      <td>0</td>\n",
              "      <td>0</td>\n",
              "      <td>0</td>\n",
              "      <td>0</td>\n",
              "      <td>1</td>\n",
              "      <td>1</td>\n",
              "      <td>1</td>\n",
              "      <td>...</td>\n",
              "      <td>53984</td>\n",
              "      <td>54062</td>\n",
              "      <td>54141</td>\n",
              "      <td>54278</td>\n",
              "      <td>54403</td>\n",
              "      <td>54483</td>\n",
              "      <td>54559</td>\n",
              "      <td>54595</td>\n",
              "      <td>54672</td>\n",
              "      <td>54750</td>\n",
              "      <td>54854</td>\n",
              "      <td>54891</td>\n",
              "      <td>54939</td>\n",
              "      <td>55008</td>\n",
              "      <td>55023</td>\n",
              "      <td>55059</td>\n",
              "      <td>55121</td>\n",
              "      <td>55174</td>\n",
              "      <td>55231</td>\n",
              "      <td>55265</td>\n",
              "      <td>55330</td>\n",
              "      <td>55335</td>\n",
              "      <td>55359</td>\n",
              "      <td>55384</td>\n",
              "      <td>55402</td>\n",
              "      <td>55420</td>\n",
              "      <td>55445</td>\n",
              "      <td>55473</td>\n",
              "      <td>55492</td>\n",
              "      <td>55514</td>\n",
              "      <td>55518</td>\n",
              "      <td>55540</td>\n",
              "      <td>55557</td>\n",
              "      <td>55575</td>\n",
              "      <td>55580</td>\n",
              "      <td>55604</td>\n",
              "      <td>55617</td>\n",
              "      <td>55646</td>\n",
              "      <td>55664</td>\n",
              "      <td>55680</td>\n",
              "    </tr>\n",
              "    <tr>\n",
              "      <th>1</th>\n",
              "      <td>NaN</td>\n",
              "      <td>Albania</td>\n",
              "      <td>41.15330</td>\n",
              "      <td>20.168300</td>\n",
              "      <td>0</td>\n",
              "      <td>0</td>\n",
              "      <td>0</td>\n",
              "      <td>0</td>\n",
              "      <td>0</td>\n",
              "      <td>0</td>\n",
              "      <td>0</td>\n",
              "      <td>0</td>\n",
              "      <td>0</td>\n",
              "      <td>0</td>\n",
              "      <td>0</td>\n",
              "      <td>0</td>\n",
              "      <td>0</td>\n",
              "      <td>0</td>\n",
              "      <td>0</td>\n",
              "      <td>0</td>\n",
              "      <td>0</td>\n",
              "      <td>0</td>\n",
              "      <td>0</td>\n",
              "      <td>0</td>\n",
              "      <td>0</td>\n",
              "      <td>0</td>\n",
              "      <td>0</td>\n",
              "      <td>0</td>\n",
              "      <td>0</td>\n",
              "      <td>0</td>\n",
              "      <td>0</td>\n",
              "      <td>0</td>\n",
              "      <td>0</td>\n",
              "      <td>0</td>\n",
              "      <td>0</td>\n",
              "      <td>0</td>\n",
              "      <td>0</td>\n",
              "      <td>0</td>\n",
              "      <td>0</td>\n",
              "      <td>0</td>\n",
              "      <td>...</td>\n",
              "      <td>67690</td>\n",
              "      <td>67982</td>\n",
              "      <td>68568</td>\n",
              "      <td>69238</td>\n",
              "      <td>69916</td>\n",
              "      <td>70655</td>\n",
              "      <td>71441</td>\n",
              "      <td>72274</td>\n",
              "      <td>72812</td>\n",
              "      <td>73691</td>\n",
              "      <td>74567</td>\n",
              "      <td>75454</td>\n",
              "      <td>76350</td>\n",
              "      <td>77251</td>\n",
              "      <td>78127</td>\n",
              "      <td>78992</td>\n",
              "      <td>79934</td>\n",
              "      <td>80941</td>\n",
              "      <td>81993</td>\n",
              "      <td>83082</td>\n",
              "      <td>84212</td>\n",
              "      <td>85336</td>\n",
              "      <td>86289</td>\n",
              "      <td>87528</td>\n",
              "      <td>88671</td>\n",
              "      <td>89776</td>\n",
              "      <td>90835</td>\n",
              "      <td>91987</td>\n",
              "      <td>93075</td>\n",
              "      <td>93850</td>\n",
              "      <td>94651</td>\n",
              "      <td>95726</td>\n",
              "      <td>96838</td>\n",
              "      <td>97909</td>\n",
              "      <td>99062</td>\n",
              "      <td>100246</td>\n",
              "      <td>101285</td>\n",
              "      <td>102306</td>\n",
              "      <td>103327</td>\n",
              "      <td>104313</td>\n",
              "    </tr>\n",
              "    <tr>\n",
              "      <th>2</th>\n",
              "      <td>NaN</td>\n",
              "      <td>Algeria</td>\n",
              "      <td>28.03390</td>\n",
              "      <td>1.659600</td>\n",
              "      <td>0</td>\n",
              "      <td>0</td>\n",
              "      <td>0</td>\n",
              "      <td>0</td>\n",
              "      <td>0</td>\n",
              "      <td>0</td>\n",
              "      <td>0</td>\n",
              "      <td>0</td>\n",
              "      <td>0</td>\n",
              "      <td>0</td>\n",
              "      <td>0</td>\n",
              "      <td>0</td>\n",
              "      <td>0</td>\n",
              "      <td>0</td>\n",
              "      <td>0</td>\n",
              "      <td>0</td>\n",
              "      <td>0</td>\n",
              "      <td>0</td>\n",
              "      <td>0</td>\n",
              "      <td>0</td>\n",
              "      <td>0</td>\n",
              "      <td>0</td>\n",
              "      <td>0</td>\n",
              "      <td>0</td>\n",
              "      <td>0</td>\n",
              "      <td>0</td>\n",
              "      <td>0</td>\n",
              "      <td>0</td>\n",
              "      <td>0</td>\n",
              "      <td>0</td>\n",
              "      <td>0</td>\n",
              "      <td>0</td>\n",
              "      <td>0</td>\n",
              "      <td>0</td>\n",
              "      <td>1</td>\n",
              "      <td>1</td>\n",
              "      <td>...</td>\n",
              "      <td>103833</td>\n",
              "      <td>104092</td>\n",
              "      <td>104341</td>\n",
              "      <td>104606</td>\n",
              "      <td>104852</td>\n",
              "      <td>105124</td>\n",
              "      <td>105369</td>\n",
              "      <td>105596</td>\n",
              "      <td>105854</td>\n",
              "      <td>106097</td>\n",
              "      <td>106359</td>\n",
              "      <td>106610</td>\n",
              "      <td>106887</td>\n",
              "      <td>107122</td>\n",
              "      <td>107339</td>\n",
              "      <td>107578</td>\n",
              "      <td>107841</td>\n",
              "      <td>108116</td>\n",
              "      <td>108381</td>\n",
              "      <td>108629</td>\n",
              "      <td>108629</td>\n",
              "      <td>109088</td>\n",
              "      <td>109313</td>\n",
              "      <td>109559</td>\n",
              "      <td>109782</td>\n",
              "      <td>110049</td>\n",
              "      <td>110303</td>\n",
              "      <td>110513</td>\n",
              "      <td>110711</td>\n",
              "      <td>110894</td>\n",
              "      <td>111069</td>\n",
              "      <td>111247</td>\n",
              "      <td>111418</td>\n",
              "      <td>111600</td>\n",
              "      <td>111764</td>\n",
              "      <td>111917</td>\n",
              "      <td>112094</td>\n",
              "      <td>112279</td>\n",
              "      <td>112461</td>\n",
              "      <td>112622</td>\n",
              "    </tr>\n",
              "    <tr>\n",
              "      <th>3</th>\n",
              "      <td>NaN</td>\n",
              "      <td>Andorra</td>\n",
              "      <td>42.50630</td>\n",
              "      <td>1.521800</td>\n",
              "      <td>0</td>\n",
              "      <td>0</td>\n",
              "      <td>0</td>\n",
              "      <td>0</td>\n",
              "      <td>0</td>\n",
              "      <td>0</td>\n",
              "      <td>0</td>\n",
              "      <td>0</td>\n",
              "      <td>0</td>\n",
              "      <td>0</td>\n",
              "      <td>0</td>\n",
              "      <td>0</td>\n",
              "      <td>0</td>\n",
              "      <td>0</td>\n",
              "      <td>0</td>\n",
              "      <td>0</td>\n",
              "      <td>0</td>\n",
              "      <td>0</td>\n",
              "      <td>0</td>\n",
              "      <td>0</td>\n",
              "      <td>0</td>\n",
              "      <td>0</td>\n",
              "      <td>0</td>\n",
              "      <td>0</td>\n",
              "      <td>0</td>\n",
              "      <td>0</td>\n",
              "      <td>0</td>\n",
              "      <td>0</td>\n",
              "      <td>0</td>\n",
              "      <td>0</td>\n",
              "      <td>0</td>\n",
              "      <td>0</td>\n",
              "      <td>0</td>\n",
              "      <td>0</td>\n",
              "      <td>0</td>\n",
              "      <td>0</td>\n",
              "      <td>...</td>\n",
              "      <td>9083</td>\n",
              "      <td>9083</td>\n",
              "      <td>9194</td>\n",
              "      <td>9308</td>\n",
              "      <td>9379</td>\n",
              "      <td>9416</td>\n",
              "      <td>9499</td>\n",
              "      <td>9549</td>\n",
              "      <td>9596</td>\n",
              "      <td>9638</td>\n",
              "      <td>9716</td>\n",
              "      <td>9779</td>\n",
              "      <td>9837</td>\n",
              "      <td>9885</td>\n",
              "      <td>9937</td>\n",
              "      <td>9972</td>\n",
              "      <td>10017</td>\n",
              "      <td>10070</td>\n",
              "      <td>10137</td>\n",
              "      <td>10172</td>\n",
              "      <td>10206</td>\n",
              "      <td>10251</td>\n",
              "      <td>10275</td>\n",
              "      <td>10312</td>\n",
              "      <td>10352</td>\n",
              "      <td>10391</td>\n",
              "      <td>10427</td>\n",
              "      <td>10463</td>\n",
              "      <td>10503</td>\n",
              "      <td>10538</td>\n",
              "      <td>10555</td>\n",
              "      <td>10583</td>\n",
              "      <td>10610</td>\n",
              "      <td>10645</td>\n",
              "      <td>10672</td>\n",
              "      <td>10699</td>\n",
              "      <td>10712</td>\n",
              "      <td>10739</td>\n",
              "      <td>10775</td>\n",
              "      <td>10799</td>\n",
              "    </tr>\n",
              "    <tr>\n",
              "      <th>4</th>\n",
              "      <td>NaN</td>\n",
              "      <td>Angola</td>\n",
              "      <td>-11.20270</td>\n",
              "      <td>17.873900</td>\n",
              "      <td>0</td>\n",
              "      <td>0</td>\n",
              "      <td>0</td>\n",
              "      <td>0</td>\n",
              "      <td>0</td>\n",
              "      <td>0</td>\n",
              "      <td>0</td>\n",
              "      <td>0</td>\n",
              "      <td>0</td>\n",
              "      <td>0</td>\n",
              "      <td>0</td>\n",
              "      <td>0</td>\n",
              "      <td>0</td>\n",
              "      <td>0</td>\n",
              "      <td>0</td>\n",
              "      <td>0</td>\n",
              "      <td>0</td>\n",
              "      <td>0</td>\n",
              "      <td>0</td>\n",
              "      <td>0</td>\n",
              "      <td>0</td>\n",
              "      <td>0</td>\n",
              "      <td>0</td>\n",
              "      <td>0</td>\n",
              "      <td>0</td>\n",
              "      <td>0</td>\n",
              "      <td>0</td>\n",
              "      <td>0</td>\n",
              "      <td>0</td>\n",
              "      <td>0</td>\n",
              "      <td>0</td>\n",
              "      <td>0</td>\n",
              "      <td>0</td>\n",
              "      <td>0</td>\n",
              "      <td>0</td>\n",
              "      <td>0</td>\n",
              "      <td>...</td>\n",
              "      <td>18875</td>\n",
              "      <td>18926</td>\n",
              "      <td>19011</td>\n",
              "      <td>19093</td>\n",
              "      <td>19177</td>\n",
              "      <td>19269</td>\n",
              "      <td>19367</td>\n",
              "      <td>19399</td>\n",
              "      <td>19476</td>\n",
              "      <td>19553</td>\n",
              "      <td>19580</td>\n",
              "      <td>19672</td>\n",
              "      <td>19723</td>\n",
              "      <td>19782</td>\n",
              "      <td>19796</td>\n",
              "      <td>19829</td>\n",
              "      <td>19900</td>\n",
              "      <td>19937</td>\n",
              "      <td>19996</td>\n",
              "      <td>20030</td>\n",
              "      <td>20062</td>\n",
              "      <td>20086</td>\n",
              "      <td>20112</td>\n",
              "      <td>20163</td>\n",
              "      <td>20210</td>\n",
              "      <td>20261</td>\n",
              "      <td>20294</td>\n",
              "      <td>20329</td>\n",
              "      <td>20366</td>\n",
              "      <td>20381</td>\n",
              "      <td>20389</td>\n",
              "      <td>20400</td>\n",
              "      <td>20452</td>\n",
              "      <td>20478</td>\n",
              "      <td>20499</td>\n",
              "      <td>20519</td>\n",
              "      <td>20548</td>\n",
              "      <td>20584</td>\n",
              "      <td>20640</td>\n",
              "      <td>20695</td>\n",
              "    </tr>\n",
              "  </tbody>\n",
              "</table>\n",
              "<p>5 rows × 405 columns</p>\n",
              "</div>"
            ],
            "text/plain": [
              "  Province/State Country/Region       Lat  ...  2/23/21  2/24/21  2/25/21\n",
              "0            NaN    Afghanistan  33.93911  ...    55646    55664    55680\n",
              "1            NaN        Albania  41.15330  ...   102306   103327   104313\n",
              "2            NaN        Algeria  28.03390  ...   112279   112461   112622\n",
              "3            NaN        Andorra  42.50630  ...    10739    10775    10799\n",
              "4            NaN         Angola -11.20270  ...    20584    20640    20695\n",
              "\n",
              "[5 rows x 405 columns]"
            ]
          },
          "metadata": {
            "tags": []
          },
          "execution_count": 16
        }
      ]
    },
    {
      "cell_type": "markdown",
      "metadata": {
        "id": "XcnvYkahpmvf"
      },
      "source": [
        "**Data Building, extracting only the Indian Covid-19 Cases and creating a DataFrame of it.**"
      ]
    },
    {
      "cell_type": "markdown",
      "metadata": {
        "id": "k7EPnw6eqKC5"
      },
      "source": [
        "Replacing the name of Country/Region by just Country"
      ]
    },
    {
      "cell_type": "code",
      "metadata": {
        "id": "Gcumfxn6f_jd"
      },
      "source": [
        "data.rename(columns = {'Country/Region':'Country'}, inplace = True)"
      ],
      "execution_count": 17,
      "outputs": []
    },
    {
      "cell_type": "code",
      "metadata": {
        "colab": {
          "base_uri": "https://localhost:8080/",
          "height": 253
        },
        "id": "dTfmlhTmiqqg",
        "outputId": "cfbe6eb7-8671-46fe-8f13-489f05af147b"
      },
      "source": [
        "data.head()"
      ],
      "execution_count": 18,
      "outputs": [
        {
          "output_type": "execute_result",
          "data": {
            "text/html": [
              "<div>\n",
              "<style scoped>\n",
              "    .dataframe tbody tr th:only-of-type {\n",
              "        vertical-align: middle;\n",
              "    }\n",
              "\n",
              "    .dataframe tbody tr th {\n",
              "        vertical-align: top;\n",
              "    }\n",
              "\n",
              "    .dataframe thead th {\n",
              "        text-align: right;\n",
              "    }\n",
              "</style>\n",
              "<table border=\"1\" class=\"dataframe\">\n",
              "  <thead>\n",
              "    <tr style=\"text-align: right;\">\n",
              "      <th></th>\n",
              "      <th>Province/State</th>\n",
              "      <th>Country</th>\n",
              "      <th>Lat</th>\n",
              "      <th>Long</th>\n",
              "      <th>1/22/20</th>\n",
              "      <th>1/23/20</th>\n",
              "      <th>1/24/20</th>\n",
              "      <th>1/25/20</th>\n",
              "      <th>1/26/20</th>\n",
              "      <th>1/27/20</th>\n",
              "      <th>1/28/20</th>\n",
              "      <th>1/29/20</th>\n",
              "      <th>1/30/20</th>\n",
              "      <th>1/31/20</th>\n",
              "      <th>2/1/20</th>\n",
              "      <th>2/2/20</th>\n",
              "      <th>2/3/20</th>\n",
              "      <th>2/4/20</th>\n",
              "      <th>2/5/20</th>\n",
              "      <th>2/6/20</th>\n",
              "      <th>2/7/20</th>\n",
              "      <th>2/8/20</th>\n",
              "      <th>2/9/20</th>\n",
              "      <th>2/10/20</th>\n",
              "      <th>2/11/20</th>\n",
              "      <th>2/12/20</th>\n",
              "      <th>2/13/20</th>\n",
              "      <th>2/14/20</th>\n",
              "      <th>2/15/20</th>\n",
              "      <th>2/16/20</th>\n",
              "      <th>2/17/20</th>\n",
              "      <th>2/18/20</th>\n",
              "      <th>2/19/20</th>\n",
              "      <th>2/20/20</th>\n",
              "      <th>2/21/20</th>\n",
              "      <th>2/22/20</th>\n",
              "      <th>2/23/20</th>\n",
              "      <th>2/24/20</th>\n",
              "      <th>2/25/20</th>\n",
              "      <th>2/26/20</th>\n",
              "      <th>...</th>\n",
              "      <th>1/17/21</th>\n",
              "      <th>1/18/21</th>\n",
              "      <th>1/19/21</th>\n",
              "      <th>1/20/21</th>\n",
              "      <th>1/21/21</th>\n",
              "      <th>1/22/21</th>\n",
              "      <th>1/23/21</th>\n",
              "      <th>1/24/21</th>\n",
              "      <th>1/25/21</th>\n",
              "      <th>1/26/21</th>\n",
              "      <th>1/27/21</th>\n",
              "      <th>1/28/21</th>\n",
              "      <th>1/29/21</th>\n",
              "      <th>1/30/21</th>\n",
              "      <th>1/31/21</th>\n",
              "      <th>2/1/21</th>\n",
              "      <th>2/2/21</th>\n",
              "      <th>2/3/21</th>\n",
              "      <th>2/4/21</th>\n",
              "      <th>2/5/21</th>\n",
              "      <th>2/6/21</th>\n",
              "      <th>2/7/21</th>\n",
              "      <th>2/8/21</th>\n",
              "      <th>2/9/21</th>\n",
              "      <th>2/10/21</th>\n",
              "      <th>2/11/21</th>\n",
              "      <th>2/12/21</th>\n",
              "      <th>2/13/21</th>\n",
              "      <th>2/14/21</th>\n",
              "      <th>2/15/21</th>\n",
              "      <th>2/16/21</th>\n",
              "      <th>2/17/21</th>\n",
              "      <th>2/18/21</th>\n",
              "      <th>2/19/21</th>\n",
              "      <th>2/20/21</th>\n",
              "      <th>2/21/21</th>\n",
              "      <th>2/22/21</th>\n",
              "      <th>2/23/21</th>\n",
              "      <th>2/24/21</th>\n",
              "      <th>2/25/21</th>\n",
              "    </tr>\n",
              "  </thead>\n",
              "  <tbody>\n",
              "    <tr>\n",
              "      <th>0</th>\n",
              "      <td>NaN</td>\n",
              "      <td>Afghanistan</td>\n",
              "      <td>33.93911</td>\n",
              "      <td>67.709953</td>\n",
              "      <td>0</td>\n",
              "      <td>0</td>\n",
              "      <td>0</td>\n",
              "      <td>0</td>\n",
              "      <td>0</td>\n",
              "      <td>0</td>\n",
              "      <td>0</td>\n",
              "      <td>0</td>\n",
              "      <td>0</td>\n",
              "      <td>0</td>\n",
              "      <td>0</td>\n",
              "      <td>0</td>\n",
              "      <td>0</td>\n",
              "      <td>0</td>\n",
              "      <td>0</td>\n",
              "      <td>0</td>\n",
              "      <td>0</td>\n",
              "      <td>0</td>\n",
              "      <td>0</td>\n",
              "      <td>0</td>\n",
              "      <td>0</td>\n",
              "      <td>0</td>\n",
              "      <td>0</td>\n",
              "      <td>0</td>\n",
              "      <td>0</td>\n",
              "      <td>0</td>\n",
              "      <td>0</td>\n",
              "      <td>0</td>\n",
              "      <td>0</td>\n",
              "      <td>0</td>\n",
              "      <td>0</td>\n",
              "      <td>0</td>\n",
              "      <td>0</td>\n",
              "      <td>1</td>\n",
              "      <td>1</td>\n",
              "      <td>1</td>\n",
              "      <td>...</td>\n",
              "      <td>53984</td>\n",
              "      <td>54062</td>\n",
              "      <td>54141</td>\n",
              "      <td>54278</td>\n",
              "      <td>54403</td>\n",
              "      <td>54483</td>\n",
              "      <td>54559</td>\n",
              "      <td>54595</td>\n",
              "      <td>54672</td>\n",
              "      <td>54750</td>\n",
              "      <td>54854</td>\n",
              "      <td>54891</td>\n",
              "      <td>54939</td>\n",
              "      <td>55008</td>\n",
              "      <td>55023</td>\n",
              "      <td>55059</td>\n",
              "      <td>55121</td>\n",
              "      <td>55174</td>\n",
              "      <td>55231</td>\n",
              "      <td>55265</td>\n",
              "      <td>55330</td>\n",
              "      <td>55335</td>\n",
              "      <td>55359</td>\n",
              "      <td>55384</td>\n",
              "      <td>55402</td>\n",
              "      <td>55420</td>\n",
              "      <td>55445</td>\n",
              "      <td>55473</td>\n",
              "      <td>55492</td>\n",
              "      <td>55514</td>\n",
              "      <td>55518</td>\n",
              "      <td>55540</td>\n",
              "      <td>55557</td>\n",
              "      <td>55575</td>\n",
              "      <td>55580</td>\n",
              "      <td>55604</td>\n",
              "      <td>55617</td>\n",
              "      <td>55646</td>\n",
              "      <td>55664</td>\n",
              "      <td>55680</td>\n",
              "    </tr>\n",
              "    <tr>\n",
              "      <th>1</th>\n",
              "      <td>NaN</td>\n",
              "      <td>Albania</td>\n",
              "      <td>41.15330</td>\n",
              "      <td>20.168300</td>\n",
              "      <td>0</td>\n",
              "      <td>0</td>\n",
              "      <td>0</td>\n",
              "      <td>0</td>\n",
              "      <td>0</td>\n",
              "      <td>0</td>\n",
              "      <td>0</td>\n",
              "      <td>0</td>\n",
              "      <td>0</td>\n",
              "      <td>0</td>\n",
              "      <td>0</td>\n",
              "      <td>0</td>\n",
              "      <td>0</td>\n",
              "      <td>0</td>\n",
              "      <td>0</td>\n",
              "      <td>0</td>\n",
              "      <td>0</td>\n",
              "      <td>0</td>\n",
              "      <td>0</td>\n",
              "      <td>0</td>\n",
              "      <td>0</td>\n",
              "      <td>0</td>\n",
              "      <td>0</td>\n",
              "      <td>0</td>\n",
              "      <td>0</td>\n",
              "      <td>0</td>\n",
              "      <td>0</td>\n",
              "      <td>0</td>\n",
              "      <td>0</td>\n",
              "      <td>0</td>\n",
              "      <td>0</td>\n",
              "      <td>0</td>\n",
              "      <td>0</td>\n",
              "      <td>0</td>\n",
              "      <td>0</td>\n",
              "      <td>0</td>\n",
              "      <td>...</td>\n",
              "      <td>67690</td>\n",
              "      <td>67982</td>\n",
              "      <td>68568</td>\n",
              "      <td>69238</td>\n",
              "      <td>69916</td>\n",
              "      <td>70655</td>\n",
              "      <td>71441</td>\n",
              "      <td>72274</td>\n",
              "      <td>72812</td>\n",
              "      <td>73691</td>\n",
              "      <td>74567</td>\n",
              "      <td>75454</td>\n",
              "      <td>76350</td>\n",
              "      <td>77251</td>\n",
              "      <td>78127</td>\n",
              "      <td>78992</td>\n",
              "      <td>79934</td>\n",
              "      <td>80941</td>\n",
              "      <td>81993</td>\n",
              "      <td>83082</td>\n",
              "      <td>84212</td>\n",
              "      <td>85336</td>\n",
              "      <td>86289</td>\n",
              "      <td>87528</td>\n",
              "      <td>88671</td>\n",
              "      <td>89776</td>\n",
              "      <td>90835</td>\n",
              "      <td>91987</td>\n",
              "      <td>93075</td>\n",
              "      <td>93850</td>\n",
              "      <td>94651</td>\n",
              "      <td>95726</td>\n",
              "      <td>96838</td>\n",
              "      <td>97909</td>\n",
              "      <td>99062</td>\n",
              "      <td>100246</td>\n",
              "      <td>101285</td>\n",
              "      <td>102306</td>\n",
              "      <td>103327</td>\n",
              "      <td>104313</td>\n",
              "    </tr>\n",
              "    <tr>\n",
              "      <th>2</th>\n",
              "      <td>NaN</td>\n",
              "      <td>Algeria</td>\n",
              "      <td>28.03390</td>\n",
              "      <td>1.659600</td>\n",
              "      <td>0</td>\n",
              "      <td>0</td>\n",
              "      <td>0</td>\n",
              "      <td>0</td>\n",
              "      <td>0</td>\n",
              "      <td>0</td>\n",
              "      <td>0</td>\n",
              "      <td>0</td>\n",
              "      <td>0</td>\n",
              "      <td>0</td>\n",
              "      <td>0</td>\n",
              "      <td>0</td>\n",
              "      <td>0</td>\n",
              "      <td>0</td>\n",
              "      <td>0</td>\n",
              "      <td>0</td>\n",
              "      <td>0</td>\n",
              "      <td>0</td>\n",
              "      <td>0</td>\n",
              "      <td>0</td>\n",
              "      <td>0</td>\n",
              "      <td>0</td>\n",
              "      <td>0</td>\n",
              "      <td>0</td>\n",
              "      <td>0</td>\n",
              "      <td>0</td>\n",
              "      <td>0</td>\n",
              "      <td>0</td>\n",
              "      <td>0</td>\n",
              "      <td>0</td>\n",
              "      <td>0</td>\n",
              "      <td>0</td>\n",
              "      <td>0</td>\n",
              "      <td>0</td>\n",
              "      <td>1</td>\n",
              "      <td>1</td>\n",
              "      <td>...</td>\n",
              "      <td>103833</td>\n",
              "      <td>104092</td>\n",
              "      <td>104341</td>\n",
              "      <td>104606</td>\n",
              "      <td>104852</td>\n",
              "      <td>105124</td>\n",
              "      <td>105369</td>\n",
              "      <td>105596</td>\n",
              "      <td>105854</td>\n",
              "      <td>106097</td>\n",
              "      <td>106359</td>\n",
              "      <td>106610</td>\n",
              "      <td>106887</td>\n",
              "      <td>107122</td>\n",
              "      <td>107339</td>\n",
              "      <td>107578</td>\n",
              "      <td>107841</td>\n",
              "      <td>108116</td>\n",
              "      <td>108381</td>\n",
              "      <td>108629</td>\n",
              "      <td>108629</td>\n",
              "      <td>109088</td>\n",
              "      <td>109313</td>\n",
              "      <td>109559</td>\n",
              "      <td>109782</td>\n",
              "      <td>110049</td>\n",
              "      <td>110303</td>\n",
              "      <td>110513</td>\n",
              "      <td>110711</td>\n",
              "      <td>110894</td>\n",
              "      <td>111069</td>\n",
              "      <td>111247</td>\n",
              "      <td>111418</td>\n",
              "      <td>111600</td>\n",
              "      <td>111764</td>\n",
              "      <td>111917</td>\n",
              "      <td>112094</td>\n",
              "      <td>112279</td>\n",
              "      <td>112461</td>\n",
              "      <td>112622</td>\n",
              "    </tr>\n",
              "    <tr>\n",
              "      <th>3</th>\n",
              "      <td>NaN</td>\n",
              "      <td>Andorra</td>\n",
              "      <td>42.50630</td>\n",
              "      <td>1.521800</td>\n",
              "      <td>0</td>\n",
              "      <td>0</td>\n",
              "      <td>0</td>\n",
              "      <td>0</td>\n",
              "      <td>0</td>\n",
              "      <td>0</td>\n",
              "      <td>0</td>\n",
              "      <td>0</td>\n",
              "      <td>0</td>\n",
              "      <td>0</td>\n",
              "      <td>0</td>\n",
              "      <td>0</td>\n",
              "      <td>0</td>\n",
              "      <td>0</td>\n",
              "      <td>0</td>\n",
              "      <td>0</td>\n",
              "      <td>0</td>\n",
              "      <td>0</td>\n",
              "      <td>0</td>\n",
              "      <td>0</td>\n",
              "      <td>0</td>\n",
              "      <td>0</td>\n",
              "      <td>0</td>\n",
              "      <td>0</td>\n",
              "      <td>0</td>\n",
              "      <td>0</td>\n",
              "      <td>0</td>\n",
              "      <td>0</td>\n",
              "      <td>0</td>\n",
              "      <td>0</td>\n",
              "      <td>0</td>\n",
              "      <td>0</td>\n",
              "      <td>0</td>\n",
              "      <td>0</td>\n",
              "      <td>0</td>\n",
              "      <td>0</td>\n",
              "      <td>...</td>\n",
              "      <td>9083</td>\n",
              "      <td>9083</td>\n",
              "      <td>9194</td>\n",
              "      <td>9308</td>\n",
              "      <td>9379</td>\n",
              "      <td>9416</td>\n",
              "      <td>9499</td>\n",
              "      <td>9549</td>\n",
              "      <td>9596</td>\n",
              "      <td>9638</td>\n",
              "      <td>9716</td>\n",
              "      <td>9779</td>\n",
              "      <td>9837</td>\n",
              "      <td>9885</td>\n",
              "      <td>9937</td>\n",
              "      <td>9972</td>\n",
              "      <td>10017</td>\n",
              "      <td>10070</td>\n",
              "      <td>10137</td>\n",
              "      <td>10172</td>\n",
              "      <td>10206</td>\n",
              "      <td>10251</td>\n",
              "      <td>10275</td>\n",
              "      <td>10312</td>\n",
              "      <td>10352</td>\n",
              "      <td>10391</td>\n",
              "      <td>10427</td>\n",
              "      <td>10463</td>\n",
              "      <td>10503</td>\n",
              "      <td>10538</td>\n",
              "      <td>10555</td>\n",
              "      <td>10583</td>\n",
              "      <td>10610</td>\n",
              "      <td>10645</td>\n",
              "      <td>10672</td>\n",
              "      <td>10699</td>\n",
              "      <td>10712</td>\n",
              "      <td>10739</td>\n",
              "      <td>10775</td>\n",
              "      <td>10799</td>\n",
              "    </tr>\n",
              "    <tr>\n",
              "      <th>4</th>\n",
              "      <td>NaN</td>\n",
              "      <td>Angola</td>\n",
              "      <td>-11.20270</td>\n",
              "      <td>17.873900</td>\n",
              "      <td>0</td>\n",
              "      <td>0</td>\n",
              "      <td>0</td>\n",
              "      <td>0</td>\n",
              "      <td>0</td>\n",
              "      <td>0</td>\n",
              "      <td>0</td>\n",
              "      <td>0</td>\n",
              "      <td>0</td>\n",
              "      <td>0</td>\n",
              "      <td>0</td>\n",
              "      <td>0</td>\n",
              "      <td>0</td>\n",
              "      <td>0</td>\n",
              "      <td>0</td>\n",
              "      <td>0</td>\n",
              "      <td>0</td>\n",
              "      <td>0</td>\n",
              "      <td>0</td>\n",
              "      <td>0</td>\n",
              "      <td>0</td>\n",
              "      <td>0</td>\n",
              "      <td>0</td>\n",
              "      <td>0</td>\n",
              "      <td>0</td>\n",
              "      <td>0</td>\n",
              "      <td>0</td>\n",
              "      <td>0</td>\n",
              "      <td>0</td>\n",
              "      <td>0</td>\n",
              "      <td>0</td>\n",
              "      <td>0</td>\n",
              "      <td>0</td>\n",
              "      <td>0</td>\n",
              "      <td>0</td>\n",
              "      <td>0</td>\n",
              "      <td>...</td>\n",
              "      <td>18875</td>\n",
              "      <td>18926</td>\n",
              "      <td>19011</td>\n",
              "      <td>19093</td>\n",
              "      <td>19177</td>\n",
              "      <td>19269</td>\n",
              "      <td>19367</td>\n",
              "      <td>19399</td>\n",
              "      <td>19476</td>\n",
              "      <td>19553</td>\n",
              "      <td>19580</td>\n",
              "      <td>19672</td>\n",
              "      <td>19723</td>\n",
              "      <td>19782</td>\n",
              "      <td>19796</td>\n",
              "      <td>19829</td>\n",
              "      <td>19900</td>\n",
              "      <td>19937</td>\n",
              "      <td>19996</td>\n",
              "      <td>20030</td>\n",
              "      <td>20062</td>\n",
              "      <td>20086</td>\n",
              "      <td>20112</td>\n",
              "      <td>20163</td>\n",
              "      <td>20210</td>\n",
              "      <td>20261</td>\n",
              "      <td>20294</td>\n",
              "      <td>20329</td>\n",
              "      <td>20366</td>\n",
              "      <td>20381</td>\n",
              "      <td>20389</td>\n",
              "      <td>20400</td>\n",
              "      <td>20452</td>\n",
              "      <td>20478</td>\n",
              "      <td>20499</td>\n",
              "      <td>20519</td>\n",
              "      <td>20548</td>\n",
              "      <td>20584</td>\n",
              "      <td>20640</td>\n",
              "      <td>20695</td>\n",
              "    </tr>\n",
              "  </tbody>\n",
              "</table>\n",
              "<p>5 rows × 405 columns</p>\n",
              "</div>"
            ],
            "text/plain": [
              "  Province/State      Country       Lat  ...  2/23/21  2/24/21  2/25/21\n",
              "0            NaN  Afghanistan  33.93911  ...    55646    55664    55680\n",
              "1            NaN      Albania  41.15330  ...   102306   103327   104313\n",
              "2            NaN      Algeria  28.03390  ...   112279   112461   112622\n",
              "3            NaN      Andorra  42.50630  ...    10739    10775    10799\n",
              "4            NaN       Angola -11.20270  ...    20584    20640    20695\n",
              "\n",
              "[5 rows x 405 columns]"
            ]
          },
          "metadata": {
            "tags": []
          },
          "execution_count": 18
        }
      ]
    },
    {
      "cell_type": "markdown",
      "metadata": {
        "id": "CBM1-0gjqL7I"
      },
      "source": [
        "Extracting out the India Covid Dataset Row"
      ]
    },
    {
      "cell_type": "code",
      "metadata": {
        "id": "qRGJjBlgi8g8"
      },
      "source": [
        "india_data = data[data['Country'] == 'India']"
      ],
      "execution_count": 19,
      "outputs": []
    },
    {
      "cell_type": "code",
      "metadata": {
        "colab": {
          "base_uri": "https://localhost:8080/",
          "height": 129
        },
        "id": "ALRit0sIjEsO",
        "outputId": "a0aeacac-e2e7-4d2b-f8e4-981e27026ab9"
      },
      "source": [
        "india_data"
      ],
      "execution_count": 20,
      "outputs": [
        {
          "output_type": "execute_result",
          "data": {
            "text/html": [
              "<div>\n",
              "<style scoped>\n",
              "    .dataframe tbody tr th:only-of-type {\n",
              "        vertical-align: middle;\n",
              "    }\n",
              "\n",
              "    .dataframe tbody tr th {\n",
              "        vertical-align: top;\n",
              "    }\n",
              "\n",
              "    .dataframe thead th {\n",
              "        text-align: right;\n",
              "    }\n",
              "</style>\n",
              "<table border=\"1\" class=\"dataframe\">\n",
              "  <thead>\n",
              "    <tr style=\"text-align: right;\">\n",
              "      <th></th>\n",
              "      <th>Province/State</th>\n",
              "      <th>Country</th>\n",
              "      <th>Lat</th>\n",
              "      <th>Long</th>\n",
              "      <th>1/22/20</th>\n",
              "      <th>1/23/20</th>\n",
              "      <th>1/24/20</th>\n",
              "      <th>1/25/20</th>\n",
              "      <th>1/26/20</th>\n",
              "      <th>1/27/20</th>\n",
              "      <th>1/28/20</th>\n",
              "      <th>1/29/20</th>\n",
              "      <th>1/30/20</th>\n",
              "      <th>1/31/20</th>\n",
              "      <th>2/1/20</th>\n",
              "      <th>2/2/20</th>\n",
              "      <th>2/3/20</th>\n",
              "      <th>2/4/20</th>\n",
              "      <th>2/5/20</th>\n",
              "      <th>2/6/20</th>\n",
              "      <th>2/7/20</th>\n",
              "      <th>2/8/20</th>\n",
              "      <th>2/9/20</th>\n",
              "      <th>2/10/20</th>\n",
              "      <th>2/11/20</th>\n",
              "      <th>2/12/20</th>\n",
              "      <th>2/13/20</th>\n",
              "      <th>2/14/20</th>\n",
              "      <th>2/15/20</th>\n",
              "      <th>2/16/20</th>\n",
              "      <th>2/17/20</th>\n",
              "      <th>2/18/20</th>\n",
              "      <th>2/19/20</th>\n",
              "      <th>2/20/20</th>\n",
              "      <th>2/21/20</th>\n",
              "      <th>2/22/20</th>\n",
              "      <th>2/23/20</th>\n",
              "      <th>2/24/20</th>\n",
              "      <th>2/25/20</th>\n",
              "      <th>2/26/20</th>\n",
              "      <th>...</th>\n",
              "      <th>1/17/21</th>\n",
              "      <th>1/18/21</th>\n",
              "      <th>1/19/21</th>\n",
              "      <th>1/20/21</th>\n",
              "      <th>1/21/21</th>\n",
              "      <th>1/22/21</th>\n",
              "      <th>1/23/21</th>\n",
              "      <th>1/24/21</th>\n",
              "      <th>1/25/21</th>\n",
              "      <th>1/26/21</th>\n",
              "      <th>1/27/21</th>\n",
              "      <th>1/28/21</th>\n",
              "      <th>1/29/21</th>\n",
              "      <th>1/30/21</th>\n",
              "      <th>1/31/21</th>\n",
              "      <th>2/1/21</th>\n",
              "      <th>2/2/21</th>\n",
              "      <th>2/3/21</th>\n",
              "      <th>2/4/21</th>\n",
              "      <th>2/5/21</th>\n",
              "      <th>2/6/21</th>\n",
              "      <th>2/7/21</th>\n",
              "      <th>2/8/21</th>\n",
              "      <th>2/9/21</th>\n",
              "      <th>2/10/21</th>\n",
              "      <th>2/11/21</th>\n",
              "      <th>2/12/21</th>\n",
              "      <th>2/13/21</th>\n",
              "      <th>2/14/21</th>\n",
              "      <th>2/15/21</th>\n",
              "      <th>2/16/21</th>\n",
              "      <th>2/17/21</th>\n",
              "      <th>2/18/21</th>\n",
              "      <th>2/19/21</th>\n",
              "      <th>2/20/21</th>\n",
              "      <th>2/21/21</th>\n",
              "      <th>2/22/21</th>\n",
              "      <th>2/23/21</th>\n",
              "      <th>2/24/21</th>\n",
              "      <th>2/25/21</th>\n",
              "    </tr>\n",
              "  </thead>\n",
              "  <tbody>\n",
              "    <tr>\n",
              "      <th>146</th>\n",
              "      <td>NaN</td>\n",
              "      <td>India</td>\n",
              "      <td>20.593684</td>\n",
              "      <td>78.96288</td>\n",
              "      <td>0</td>\n",
              "      <td>0</td>\n",
              "      <td>0</td>\n",
              "      <td>0</td>\n",
              "      <td>0</td>\n",
              "      <td>0</td>\n",
              "      <td>0</td>\n",
              "      <td>0</td>\n",
              "      <td>1</td>\n",
              "      <td>1</td>\n",
              "      <td>1</td>\n",
              "      <td>2</td>\n",
              "      <td>3</td>\n",
              "      <td>3</td>\n",
              "      <td>3</td>\n",
              "      <td>3</td>\n",
              "      <td>3</td>\n",
              "      <td>3</td>\n",
              "      <td>3</td>\n",
              "      <td>3</td>\n",
              "      <td>3</td>\n",
              "      <td>3</td>\n",
              "      <td>3</td>\n",
              "      <td>3</td>\n",
              "      <td>3</td>\n",
              "      <td>3</td>\n",
              "      <td>3</td>\n",
              "      <td>3</td>\n",
              "      <td>3</td>\n",
              "      <td>3</td>\n",
              "      <td>3</td>\n",
              "      <td>3</td>\n",
              "      <td>3</td>\n",
              "      <td>3</td>\n",
              "      <td>3</td>\n",
              "      <td>3</td>\n",
              "      <td>...</td>\n",
              "      <td>10571773</td>\n",
              "      <td>10581823</td>\n",
              "      <td>10595639</td>\n",
              "      <td>10610883</td>\n",
              "      <td>10625428</td>\n",
              "      <td>10639684</td>\n",
              "      <td>10654533</td>\n",
              "      <td>10667736</td>\n",
              "      <td>10676838</td>\n",
              "      <td>10689527</td>\n",
              "      <td>10701193</td>\n",
              "      <td>10720048</td>\n",
              "      <td>10733130</td>\n",
              "      <td>10746174</td>\n",
              "      <td>10757610</td>\n",
              "      <td>10766245</td>\n",
              "      <td>10777284</td>\n",
              "      <td>10790183</td>\n",
              "      <td>10802591</td>\n",
              "      <td>10814304</td>\n",
              "      <td>10826363</td>\n",
              "      <td>10838194</td>\n",
              "      <td>10847304</td>\n",
              "      <td>10858371</td>\n",
              "      <td>10871294</td>\n",
              "      <td>10880603</td>\n",
              "      <td>10892746</td>\n",
              "      <td>10904940</td>\n",
              "      <td>10916589</td>\n",
              "      <td>10925710</td>\n",
              "      <td>10937320</td>\n",
              "      <td>10950201</td>\n",
              "      <td>10963394</td>\n",
              "      <td>10977387</td>\n",
              "      <td>10991651</td>\n",
              "      <td>11005850</td>\n",
              "      <td>11016434</td>\n",
              "      <td>11030176</td>\n",
              "      <td>11046914</td>\n",
              "      <td>11063491</td>\n",
              "    </tr>\n",
              "  </tbody>\n",
              "</table>\n",
              "<p>1 rows × 405 columns</p>\n",
              "</div>"
            ],
            "text/plain": [
              "    Province/State Country        Lat  ...   2/23/21   2/24/21   2/25/21\n",
              "146            NaN   India  20.593684  ...  11030176  11046914  11063491\n",
              "\n",
              "[1 rows x 405 columns]"
            ]
          },
          "metadata": {
            "tags": []
          },
          "execution_count": 20
        }
      ]
    },
    {
      "cell_type": "code",
      "metadata": {
        "colab": {
          "base_uri": "https://localhost:8080/"
        },
        "id": "tll_arH6nyqe",
        "outputId": "899f3bff-ed58-49a7-dff6-08d2bf5ef2b7"
      },
      "source": [
        "india_data['1/20/21']"
      ],
      "execution_count": 21,
      "outputs": [
        {
          "output_type": "execute_result",
          "data": {
            "text/plain": [
              "146    10610883\n",
              "Name: 1/20/21, dtype: int64"
            ]
          },
          "metadata": {
            "tags": []
          },
          "execution_count": 21
        }
      ]
    },
    {
      "cell_type": "markdown",
      "metadata": {
        "id": "B3Y4MpbqqSIt"
      },
      "source": [
        "Taking out the Date an cases and creating a list from it"
      ]
    },
    {
      "cell_type": "code",
      "metadata": {
        "id": "dXYFtS1Hjim-"
      },
      "source": [
        "Date = []\n",
        "cases = []\n",
        "for column in india_data:\n",
        "  #print(\"Column : \", column)\n",
        "  Date.append(column)\n",
        "  cases.append(india_data[column])\n",
        "  # print(\"Value :\", india_data[column])"
      ],
      "execution_count": 135,
      "outputs": []
    },
    {
      "cell_type": "code",
      "metadata": {
        "colab": {
          "base_uri": "https://localhost:8080/"
        },
        "id": "ZiwA0Pgeq3MW",
        "outputId": "ba1172b0-5c1e-4b28-8b42-927abd274ff1"
      },
      "source": [
        "Date[:4], cases[:4]"
      ],
      "execution_count": 136,
      "outputs": [
        {
          "output_type": "execute_result",
          "data": {
            "text/plain": [
              "(['Province/State', 'Country', 'Lat', 'Long'], [146    NaN\n",
              "  Name: Province/State, dtype: object, 146    India\n",
              "  Name: Country, dtype: object, 146    20.593684\n",
              "  Name: Lat, dtype: float64, 146    78.96288\n",
              "  Name: Long, dtype: float64])"
            ]
          },
          "metadata": {
            "tags": []
          },
          "execution_count": 136
        }
      ]
    },
    {
      "cell_type": "markdown",
      "metadata": {
        "id": "YnIfZsBRq1da"
      },
      "source": [
        "Removing the first 4 values of List as they are of no Use"
      ]
    },
    {
      "cell_type": "code",
      "metadata": {
        "id": "6a0GMBGEcwH2"
      },
      "source": [
        "Date = Date[4:]\n",
        "cases = cases[4:]"
      ],
      "execution_count": 137,
      "outputs": []
    },
    {
      "cell_type": "markdown",
      "metadata": {
        "id": "Cmp_phnGsTkF"
      },
      "source": [
        "Extracting out the Numerical value of Cases from  the cases variable and"
      ]
    },
    {
      "cell_type": "code",
      "metadata": {
        "colab": {
          "base_uri": "https://localhost:8080/"
        },
        "id": "MWCcBQNW03Ly",
        "outputId": "e4b6f816-339f-4e48-f08a-9448856dbb59"
      },
      "source": [
        "p = str(cases[0]).split(' ')[4]\n",
        "int(p.split('\\n')[0])"
      ],
      "execution_count": 29,
      "outputs": [
        {
          "output_type": "execute_result",
          "data": {
            "text/plain": [
              "0"
            ]
          },
          "metadata": {
            "tags": []
          },
          "execution_count": 29
        }
      ]
    },
    {
      "cell_type": "markdown",
      "metadata": {
        "id": "vT-7UAciuQ8w"
      },
      "source": [
        "In total we have 397 days of values of COVID-CASES"
      ]
    },
    {
      "cell_type": "code",
      "metadata": {
        "colab": {
          "base_uri": "https://localhost:8080/"
        },
        "id": "flMM1hysk-sI",
        "outputId": "ff7ff35d-f858-4a19-91b2-1547bc2c4329"
      },
      "source": [
        "Date[0], cases[0]\n",
        "len(Date), len(cases)"
      ],
      "execution_count": 30,
      "outputs": [
        {
          "output_type": "execute_result",
          "data": {
            "text/plain": [
              "(397, 397)"
            ]
          },
          "metadata": {
            "tags": []
          },
          "execution_count": 30
        }
      ]
    },
    {
      "cell_type": "code",
      "metadata": {
        "id": "Ff066zNU2Dvb"
      },
      "source": [
        "for i in range(len(cases)):\n",
        "  p = str(cases[i]).split(' ')[4]\n",
        "  cases[i] = int(p.split('\\n')[0])"
      ],
      "execution_count": 31,
      "outputs": []
    },
    {
      "cell_type": "markdown",
      "metadata": {
        "id": "HPbPWLKsuk87"
      },
      "source": [
        "Creating the Dataframe for total 397 Cases"
      ]
    },
    {
      "cell_type": "code",
      "metadata": {
        "colab": {
          "base_uri": "https://localhost:8080/",
          "height": 204
        },
        "id": "Q4udYajYzkzT",
        "outputId": "33d33e8b-1967-451b-d256-b655f686f6b0"
      },
      "source": [
        "data = pd.DataFrame(data = [cases], index = ['Cases'] )\n",
        "data = data.T\n",
        "data.tail()"
      ],
      "execution_count": 66,
      "outputs": [
        {
          "output_type": "execute_result",
          "data": {
            "text/html": [
              "<div>\n",
              "<style scoped>\n",
              "    .dataframe tbody tr th:only-of-type {\n",
              "        vertical-align: middle;\n",
              "    }\n",
              "\n",
              "    .dataframe tbody tr th {\n",
              "        vertical-align: top;\n",
              "    }\n",
              "\n",
              "    .dataframe thead th {\n",
              "        text-align: right;\n",
              "    }\n",
              "</style>\n",
              "<table border=\"1\" class=\"dataframe\">\n",
              "  <thead>\n",
              "    <tr style=\"text-align: right;\">\n",
              "      <th></th>\n",
              "      <th>Cases</th>\n",
              "    </tr>\n",
              "  </thead>\n",
              "  <tbody>\n",
              "    <tr>\n",
              "      <th>392</th>\n",
              "      <td>11005850</td>\n",
              "    </tr>\n",
              "    <tr>\n",
              "      <th>393</th>\n",
              "      <td>11016434</td>\n",
              "    </tr>\n",
              "    <tr>\n",
              "      <th>394</th>\n",
              "      <td>11030176</td>\n",
              "    </tr>\n",
              "    <tr>\n",
              "      <th>395</th>\n",
              "      <td>11046914</td>\n",
              "    </tr>\n",
              "    <tr>\n",
              "      <th>396</th>\n",
              "      <td>11063491</td>\n",
              "    </tr>\n",
              "  </tbody>\n",
              "</table>\n",
              "</div>"
            ],
            "text/plain": [
              "        Cases\n",
              "392  11005850\n",
              "393  11016434\n",
              "394  11030176\n",
              "395  11046914\n",
              "396  11063491"
            ]
          },
          "metadata": {
            "tags": []
          },
          "execution_count": 66
        }
      ]
    },
    {
      "cell_type": "code",
      "metadata": {
        "colab": {
          "base_uri": "https://localhost:8080/"
        },
        "id": "sJOf9M-oRSvx",
        "outputId": "f23c0d15-bd36-4e0e-a651-c5ad862eb723"
      },
      "source": [
        "data.shape"
      ],
      "execution_count": 67,
      "outputs": [
        {
          "output_type": "execute_result",
          "data": {
            "text/plain": [
              "(397, 1)"
            ]
          },
          "metadata": {
            "tags": []
          },
          "execution_count": 67
        }
      ]
    },
    {
      "cell_type": "markdown",
      "metadata": {
        "id": "IDSWUYD2uru7"
      },
      "source": [
        "Seeing the trend of increase in Covid-19 Cases throughout the 397 Day"
      ]
    },
    {
      "cell_type": "code",
      "metadata": {
        "colab": {
          "base_uri": "https://localhost:8080/",
          "height": 293
        },
        "id": "26rQjgDXRSyl",
        "outputId": "4f843c98-862a-40c5-fd25-174ef55e9c0c"
      },
      "source": [
        "import matplotlib.pyplot as plt\n",
        "plt.plot(data)"
      ],
      "execution_count": 68,
      "outputs": [
        {
          "output_type": "execute_result",
          "data": {
            "text/plain": [
              "[<matplotlib.lines.Line2D at 0x7f572c0f0c10>]"
            ]
          },
          "metadata": {
            "tags": []
          },
          "execution_count": 68
        },
        {
          "output_type": "display_data",
          "data": {
            "image/png": "[encoded data removed]",
            "text/plain": [
              "<Figure size 432x288 with 1 Axes>"
            ]
          },
          "metadata": {
            "tags": [],
            "needs_background": "light"
          }
        }
      ]
    },
    {
      "cell_type": "markdown",
      "metadata": {
        "id": "FjyHziBKu5dI"
      },
      "source": [
        "Preproceesing the dataset to minimize the COmputational Power"
      ]
    },
    {
      "cell_type": "code",
      "metadata": {
        "colab": {
          "base_uri": "https://localhost:8080/"
        },
        "id": "VP2L3odtIPzy",
        "outputId": "4a2da46d-ff3e-4407-81f1-200be2ee5dcb"
      },
      "source": [
        "from sklearn.preprocessing import MinMaxScaler\n",
        "scaler = MinMaxScaler()\n",
        "scaled_data = scaler.fit_transform(data)\n",
        "scaled_data[:5]"
      ],
      "execution_count": 69,
      "outputs": [
        {
          "output_type": "execute_result",
          "data": {
            "text/plain": [
              "array([[0.00000000e+00],\n",
              "       [0.00000000e+00],\n",
              "       [0.00000000e+00],\n",
              "       [0.00000000e+00],\n",
              "       [9.03873832e-08]])"
            ]
          },
          "metadata": {
            "tags": []
          },
          "execution_count": 69
        }
      ]
    },
    {
      "cell_type": "code",
      "metadata": {
        "colab": {
          "base_uri": "https://localhost:8080/"
        },
        "id": "iWGHJR_uRS0n",
        "outputId": "b0b8d7fb-bac8-4219-b7d8-f55873690f2d"
      },
      "source": [
        "scaled_data.shape"
      ],
      "execution_count": 70,
      "outputs": [
        {
          "output_type": "execute_result",
          "data": {
            "text/plain": [
              "(397, 1)"
            ]
          },
          "metadata": {
            "tags": []
          },
          "execution_count": 70
        }
      ]
    },
    {
      "cell_type": "markdown",
      "metadata": {
        "id": "E1tQ-ACsvBWW"
      },
      "source": [
        "As it is a sequential Dataset, we cant shuffle the dataset randomly so I am making the first 357 day of dataset (about 90% of total days) as training dataset and rest as Testing Dataset"
      ]
    },
    {
      "cell_type": "code",
      "metadata": {
        "colab": {
          "base_uri": "https://localhost:8080/"
        },
        "id": "oggxyOIeRS3A",
        "outputId": "97028ced-9aa7-44fd-8be0-7dbaa73fb777"
      },
      "source": [
        "training_data, testing_data = scaled_data[:357], scaled_data[357:]\n",
        "training_data.shape, testing_data.shape"
      ],
      "execution_count": 111,
      "outputs": [
        {
          "output_type": "execute_result",
          "data": {
            "text/plain": [
              "((357, 1), (40, 1))"
            ]
          },
          "metadata": {
            "tags": []
          },
          "execution_count": 111
        }
      ]
    },
    {
      "cell_type": "markdown",
      "metadata": {
        "id": "vumfhDzLvY8X"
      },
      "source": [
        "Creating a window for 7 days and predicting the out put on 8th day, so addding the first 7 days of window dataset to X_train and next 1 data to the y_train. Same procedure is done during Test classification as well."
      ]
    },
    {
      "cell_type": "code",
      "metadata": {
        "id": "ijP_qEYJRS5J"
      },
      "source": [
        "X_train = []\n",
        "y_train = []\n",
        "X_test = []\n",
        "y_test = []\n",
        "time_stamp = 7\n",
        "for i in range(len(training_data) - time_stamp - 1):\n",
        "  X_train.append(training_data[i: i + time_stamp, 0])\n",
        "  y_train.append(training_data[i+ time_stamp, 0])\n",
        "\n",
        "for i in range(len(testing_data) - time_stamp - 1):\n",
        "  X_test.append(testing_data[i: i + time_stamp, 0])\n",
        "  y_test.append(testing_data[i+ time_stamp, 0])\n"
      ],
      "execution_count": 112,
      "outputs": []
    },
    {
      "cell_type": "markdown",
      "metadata": {
        "id": "EfKNz4YuwSp-"
      },
      "source": [
        "SO the first 349 days of dataset is in X_train and rest are in X_Test for testing"
      ]
    },
    {
      "cell_type": "code",
      "metadata": {
        "colab": {
          "base_uri": "https://localhost:8080/"
        },
        "id": "GCSi2pfJRS74",
        "outputId": "2dd8a04c-f5a1-449a-e0f0-2018fe487984"
      },
      "source": [
        "len(X_train), len(X_test)"
      ],
      "execution_count": 113,
      "outputs": [
        {
          "output_type": "execute_result",
          "data": {
            "text/plain": [
              "(349, 32)"
            ]
          },
          "metadata": {
            "tags": []
          },
          "execution_count": 113
        }
      ]
    },
    {
      "cell_type": "code",
      "metadata": {
        "id": "S_oHffV3RS-e"
      },
      "source": [
        "X_train = np.array(X_train)\n",
        "X_test = np.array(X_test)\n",
        "y_train = np.array(y_train)\n",
        "y_test = np.array(y_test)"
      ],
      "execution_count": 114,
      "outputs": []
    },
    {
      "cell_type": "code",
      "metadata": {
        "colab": {
          "base_uri": "https://localhost:8080/"
        },
        "id": "01lsyDGjRTA-",
        "outputId": "a4a11f85-e12b-4ffd-ca19-dff019c2b769"
      },
      "source": [
        "X_train[0], y_train[0]"
      ],
      "execution_count": 115,
      "outputs": [
        {
          "output_type": "execute_result",
          "data": {
            "text/plain": [
              "(array([0.00000000e+00, 0.00000000e+00, 0.00000000e+00, 0.00000000e+00,\n",
              "        9.03873832e-08, 9.03873832e-08, 9.03873832e-08]),\n",
              " 1.807747663011612e-07)"
            ]
          },
          "metadata": {
            "tags": []
          },
          "execution_count": 115
        }
      ]
    },
    {
      "cell_type": "code",
      "metadata": {
        "colab": {
          "base_uri": "https://localhost:8080/"
        },
        "id": "L0Tp2bxkRTD0",
        "outputId": "1448f7f9-cef1-42f7-ca9d-0ae405980d0f"
      },
      "source": [
        "X_train.shape, X_test.shape"
      ],
      "execution_count": 116,
      "outputs": [
        {
          "output_type": "execute_result",
          "data": {
            "text/plain": [
              "((349, 7), (32, 7))"
            ]
          },
          "metadata": {
            "tags": []
          },
          "execution_count": 116
        }
      ]
    },
    {
      "cell_type": "markdown",
      "metadata": {
        "id": "pEjR6fEPwdio"
      },
      "source": [
        "Increasing the DImension of the X_train and X_test dataset for training the Model under LSTM"
      ]
    },
    {
      "cell_type": "code",
      "metadata": {
        "id": "bOzpL38eJdPW"
      },
      "source": [
        "X_train = X_train.reshape(X_train.shape[0], X_train.shape[1], 1)\n",
        "X_test = X_test.reshape(X_test.shape[0], X_test.shape[1], 1)\n"
      ],
      "execution_count": 117,
      "outputs": []
    },
    {
      "cell_type": "code",
      "metadata": {
        "colab": {
          "base_uri": "https://localhost:8080/"
        },
        "id": "TJ8z1nQAYxfF",
        "outputId": "cc6457dc-01e5-4156-e1ff-dfa68ee218db"
      },
      "source": [
        "X_train.shape, X_test.shape"
      ],
      "execution_count": 118,
      "outputs": [
        {
          "output_type": "execute_result",
          "data": {
            "text/plain": [
              "((349, 7, 1), (32, 7, 1))"
            ]
          },
          "metadata": {
            "tags": []
          },
          "execution_count": 118
        }
      ]
    },
    {
      "cell_type": "markdown",
      "metadata": {
        "id": "9EItY-vpwm0r"
      },
      "source": [
        "Model Creating"
      ]
    },
    {
      "cell_type": "code",
      "metadata": {
        "colab": {
          "base_uri": "https://localhost:8080/"
        },
        "id": "GGKEaR0iZGih",
        "outputId": "342c1c5b-53f5-4e19-cfb4-89a1d254d496"
      },
      "source": [
        "model = tf.keras.Sequential([\n",
        "    tf.keras.layers.LSTM(120, return_sequences=True, input_shape = (7, 1)),\n",
        "    tf.keras.layers.LSTM(60, return_sequences= True),\n",
        "    tf.keras.layers.LSTM(30),\n",
        "    tf.keras.layers.Dense(1)]\n",
        ")\n",
        "model.summary()"
      ],
      "execution_count": 125,
      "outputs": [
        {
          "output_type": "stream",
          "text": [
            "Model: \"sequential_6\"\n",
            "_________________________________________________________________\n",
            "Layer (type)                 Output Shape              Param #   \n",
            "=================================================================\n",
            "lstm_18 (LSTM)               (None, 7, 120)            58560     \n",
            "_________________________________________________________________\n",
            "lstm_19 (LSTM)               (None, 7, 60)             43440     \n",
            "_________________________________________________________________\n",
            "lstm_20 (LSTM)               (None, 30)                10920     \n",
            "_________________________________________________________________\n",
            "dense_6 (Dense)              (None, 1)                 31        \n",
            "=================================================================\n",
            "Total params: 112,951\n",
            "Trainable params: 112,951\n",
            "Non-trainable params: 0\n",
            "_________________________________________________________________\n"
          ],
          "name": "stdout"
        }
      ]
    },
    {
      "cell_type": "markdown",
      "metadata": {
        "id": "xVB2GwW6wp2L"
      },
      "source": [
        "Model Compiling"
      ]
    },
    {
      "cell_type": "code",
      "metadata": {
        "colab": {
          "base_uri": "https://localhost:8080/"
        },
        "id": "h_1hP5sAatF-",
        "outputId": "a94cbab7-2b1b-4a0a-ee0a-280b80cfabef"
      },
      "source": [
        "model.compile(loss=tf.keras.losses.Huber(),\n",
        "              optimizer = 'adam')\n",
        "history = model.fit(X_train, y_train, epochs = 200, validation_data = (X_test, y_test))"
      ],
      "execution_count": 126,
      "outputs": [
        {
          "output_type": "stream",
          "text": [
            "Epoch 1/200\n",
            "11/11 [==============================] - 4s 88ms/step - loss: 0.0810 - val_loss: 0.0025\n",
            "Epoch 2/200\n",
            "11/11 [==============================] - 0s 8ms/step - loss: 0.0140 - val_loss: 0.0248\n",
            "Epoch 3/200\n",
            "11/11 [==============================] - 0s 7ms/step - loss: 0.0041 - val_loss: 0.0082\n",
            "Epoch 4/200\n",
            "11/11 [==============================] - 0s 8ms/step - loss: 0.0011 - val_loss: 2.5174e-04\n",
            "Epoch 5/200\n",
            "11/11 [==============================] - 0s 7ms/step - loss: 3.1052e-04 - val_loss: 2.4191e-04\n",
            "Epoch 6/200\n",
            "11/11 [==============================] - 0s 8ms/step - loss: 2.2433e-04 - val_loss: 1.0941e-04\n",
            "Epoch 7/200\n",
            "11/11 [==============================] - 0s 8ms/step - loss: 9.6535e-05 - val_loss: 1.1928e-04\n",
            "Epoch 8/200\n",
            "11/11 [==============================] - 0s 8ms/step - loss: 4.6874e-05 - val_loss: 1.6992e-05\n",
            "Epoch 9/200\n",
            "11/11 [==============================] - 0s 9ms/step - loss: 3.0121e-05 - val_loss: 2.7049e-05\n",
            "Epoch 10/200\n",
            "11/11 [==============================] - 0s 9ms/step - loss: 3.0306e-05 - val_loss: 1.1375e-04\n",
            "Epoch 11/200\n",
            "11/11 [==============================] - 0s 8ms/step - loss: 2.4494e-05 - val_loss: 1.3220e-04\n",
            "Epoch 12/200\n",
            "11/11 [==============================] - 0s 7ms/step - loss: 2.3225e-05 - val_loss: 6.2920e-05\n",
            "Epoch 13/200\n",
            "11/11 [==============================] - 0s 9ms/step - loss: 2.2544e-05 - val_loss: 1.3927e-04\n",
            "Epoch 14/200\n",
            "11/11 [==============================] - 0s 8ms/step - loss: 1.9545e-05 - val_loss: 1.9731e-04\n",
            "Epoch 15/200\n",
            "11/11 [==============================] - 0s 7ms/step - loss: 2.0847e-05 - val_loss: 1.6974e-04\n",
            "Epoch 16/200\n",
            "11/11 [==============================] - 0s 8ms/step - loss: 2.0397e-05 - val_loss: 1.8976e-04\n",
            "Epoch 17/200\n",
            "11/11 [==============================] - 0s 8ms/step - loss: 2.0606e-05 - val_loss: 8.9784e-05\n",
            "Epoch 18/200\n",
            "11/11 [==============================] - 0s 7ms/step - loss: 1.9386e-05 - val_loss: 1.2726e-04\n",
            "Epoch 19/200\n",
            "11/11 [==============================] - 0s 8ms/step - loss: 1.9215e-05 - val_loss: 2.3477e-04\n",
            "Epoch 20/200\n",
            "11/11 [==============================] - 0s 7ms/step - loss: 2.1856e-05 - val_loss: 3.0223e-04\n",
            "Epoch 21/200\n",
            "11/11 [==============================] - 0s 9ms/step - loss: 2.1214e-05 - val_loss: 1.1309e-04\n",
            "Epoch 22/200\n",
            "11/11 [==============================] - 0s 7ms/step - loss: 1.8920e-05 - val_loss: 9.5534e-05\n",
            "Epoch 23/200\n",
            "11/11 [==============================] - 0s 8ms/step - loss: 2.0368e-05 - val_loss: 8.2015e-05\n",
            "Epoch 24/200\n",
            "11/11 [==============================] - 0s 9ms/step - loss: 2.1450e-05 - val_loss: 1.6507e-04\n",
            "Epoch 25/200\n",
            "11/11 [==============================] - 0s 8ms/step - loss: 1.9113e-05 - val_loss: 2.7957e-04\n",
            "Epoch 26/200\n",
            "11/11 [==============================] - 0s 9ms/step - loss: 2.0401e-05 - val_loss: 2.3318e-04\n",
            "Epoch 27/200\n",
            "11/11 [==============================] - 0s 8ms/step - loss: 1.6754e-05 - val_loss: 2.4124e-04\n",
            "Epoch 28/200\n",
            "11/11 [==============================] - 0s 8ms/step - loss: 1.9999e-05 - val_loss: 1.5860e-04\n",
            "Epoch 29/200\n",
            "11/11 [==============================] - 0s 8ms/step - loss: 1.7747e-05 - val_loss: 1.8969e-04\n",
            "Epoch 30/200\n",
            "11/11 [==============================] - 0s 8ms/step - loss: 2.0187e-05 - val_loss: 2.8958e-04\n",
            "Epoch 31/200\n",
            "11/11 [==============================] - 0s 9ms/step - loss: 2.2457e-05 - val_loss: 2.0212e-04\n",
            "Epoch 32/200\n",
            "11/11 [==============================] - 0s 9ms/step - loss: 1.7458e-05 - val_loss: 1.5925e-04\n",
            "Epoch 33/200\n",
            "11/11 [==============================] - 0s 8ms/step - loss: 1.5828e-05 - val_loss: 9.4931e-05\n",
            "Epoch 34/200\n",
            "11/11 [==============================] - 0s 7ms/step - loss: 2.0135e-05 - val_loss: 7.6840e-05\n",
            "Epoch 35/200\n",
            "11/11 [==============================] - 0s 8ms/step - loss: 1.8856e-05 - val_loss: 6.6325e-05\n",
            "Epoch 36/200\n",
            "11/11 [==============================] - 0s 8ms/step - loss: 1.8697e-05 - val_loss: 1.1716e-04\n",
            "Epoch 37/200\n",
            "11/11 [==============================] - 0s 8ms/step - loss: 1.6242e-05 - val_loss: 1.5546e-04\n",
            "Epoch 38/200\n",
            "11/11 [==============================] - 0s 8ms/step - loss: 1.5643e-05 - val_loss: 1.3988e-04\n",
            "Epoch 39/200\n",
            "11/11 [==============================] - 0s 8ms/step - loss: 1.6223e-05 - val_loss: 1.3843e-04\n",
            "Epoch 40/200\n",
            "11/11 [==============================] - 0s 8ms/step - loss: 1.7855e-05 - val_loss: 1.8858e-04\n",
            "Epoch 41/200\n",
            "11/11 [==============================] - 0s 8ms/step - loss: 1.5377e-05 - val_loss: 1.8732e-04\n",
            "Epoch 42/200\n",
            "11/11 [==============================] - 0s 8ms/step - loss: 1.5235e-05 - val_loss: 1.4383e-04\n",
            "Epoch 43/200\n",
            "11/11 [==============================] - 0s 10ms/step - loss: 1.4523e-05 - val_loss: 1.9829e-04\n",
            "Epoch 44/200\n",
            "11/11 [==============================] - 0s 9ms/step - loss: 1.6147e-05 - val_loss: 6.0582e-05\n",
            "Epoch 45/200\n",
            "11/11 [==============================] - 0s 8ms/step - loss: 2.0056e-05 - val_loss: 7.4132e-05\n",
            "Epoch 46/200\n",
            "11/11 [==============================] - 0s 8ms/step - loss: 1.4331e-05 - val_loss: 8.3876e-05\n",
            "Epoch 47/200\n",
            "11/11 [==============================] - 0s 8ms/step - loss: 1.6625e-05 - val_loss: 9.9209e-05\n",
            "Epoch 48/200\n",
            "11/11 [==============================] - 0s 9ms/step - loss: 1.5203e-05 - val_loss: 1.4952e-04\n",
            "Epoch 49/200\n",
            "11/11 [==============================] - 0s 9ms/step - loss: 1.4313e-05 - val_loss: 2.5275e-04\n",
            "Epoch 50/200\n",
            "11/11 [==============================] - 0s 8ms/step - loss: 1.7730e-05 - val_loss: 1.5955e-04\n",
            "Epoch 51/200\n",
            "11/11 [==============================] - 0s 8ms/step - loss: 1.3172e-05 - val_loss: 1.5509e-04\n",
            "Epoch 52/200\n",
            "11/11 [==============================] - 0s 8ms/step - loss: 1.3322e-05 - val_loss: 1.9632e-04\n",
            "Epoch 53/200\n",
            "11/11 [==============================] - 0s 9ms/step - loss: 1.5122e-05 - val_loss: 1.4671e-04\n",
            "Epoch 54/200\n",
            "11/11 [==============================] - 0s 8ms/step - loss: 1.4304e-05 - val_loss: 1.1131e-04\n",
            "Epoch 55/200\n",
            "11/11 [==============================] - 0s 7ms/step - loss: 1.5512e-05 - val_loss: 6.2605e-05\n",
            "Epoch 56/200\n",
            "11/11 [==============================] - 0s 8ms/step - loss: 1.5412e-05 - val_loss: 2.6055e-05\n",
            "Epoch 57/200\n",
            "11/11 [==============================] - 0s 8ms/step - loss: 1.5995e-05 - val_loss: 8.9277e-05\n",
            "Epoch 58/200\n",
            "11/11 [==============================] - 0s 8ms/step - loss: 1.3875e-05 - val_loss: 9.3881e-05\n",
            "Epoch 59/200\n",
            "11/11 [==============================] - 0s 8ms/step - loss: 1.3889e-05 - val_loss: 1.6254e-04\n",
            "Epoch 60/200\n",
            "11/11 [==============================] - 0s 8ms/step - loss: 1.5615e-05 - val_loss: 6.9099e-05\n",
            "Epoch 61/200\n",
            "11/11 [==============================] - 0s 9ms/step - loss: 1.4069e-05 - val_loss: 8.3324e-05\n",
            "Epoch 62/200\n",
            "11/11 [==============================] - 0s 9ms/step - loss: 1.3912e-05 - val_loss: 5.6426e-05\n",
            "Epoch 63/200\n",
            "11/11 [==============================] - 0s 8ms/step - loss: 1.4009e-05 - val_loss: 1.7242e-04\n",
            "Epoch 64/200\n",
            "11/11 [==============================] - 0s 9ms/step - loss: 1.3358e-05 - val_loss: 9.4722e-05\n",
            "Epoch 65/200\n",
            "11/11 [==============================] - 0s 8ms/step - loss: 1.3609e-05 - val_loss: 1.5215e-04\n",
            "Epoch 66/200\n",
            "11/11 [==============================] - 0s 8ms/step - loss: 1.4169e-05 - val_loss: 7.7087e-05\n",
            "Epoch 67/200\n",
            "11/11 [==============================] - 0s 7ms/step - loss: 1.3310e-05 - val_loss: 8.6104e-05\n",
            "Epoch 68/200\n",
            "11/11 [==============================] - 0s 7ms/step - loss: 1.2861e-05 - val_loss: 2.1625e-04\n",
            "Epoch 69/200\n",
            "11/11 [==============================] - 0s 7ms/step - loss: 1.5822e-05 - val_loss: 1.3169e-04\n",
            "Epoch 70/200\n",
            "11/11 [==============================] - 0s 7ms/step - loss: 1.2205e-05 - val_loss: 1.5759e-04\n",
            "Epoch 71/200\n",
            "11/11 [==============================] - 0s 8ms/step - loss: 1.4624e-05 - val_loss: 3.8982e-05\n",
            "Epoch 72/200\n",
            "11/11 [==============================] - 0s 8ms/step - loss: 1.4449e-05 - val_loss: 1.0207e-04\n",
            "Epoch 73/200\n",
            "11/11 [==============================] - 0s 8ms/step - loss: 1.2005e-05 - val_loss: 1.1398e-04\n",
            "Epoch 74/200\n",
            "11/11 [==============================] - 0s 8ms/step - loss: 1.2069e-05 - val_loss: 7.4405e-05\n",
            "Epoch 75/200\n",
            "11/11 [==============================] - 0s 9ms/step - loss: 1.1197e-05 - val_loss: 8.9932e-05\n",
            "Epoch 76/200\n",
            "11/11 [==============================] - 0s 9ms/step - loss: 1.2061e-05 - val_loss: 1.3282e-04\n",
            "Epoch 77/200\n",
            "11/11 [==============================] - 0s 8ms/step - loss: 1.0443e-05 - val_loss: 1.0494e-04\n",
            "Epoch 78/200\n",
            "11/11 [==============================] - 0s 8ms/step - loss: 1.1727e-05 - val_loss: 1.2074e-04\n",
            "Epoch 79/200\n",
            "11/11 [==============================] - 0s 9ms/step - loss: 1.2436e-05 - val_loss: 5.8036e-05\n",
            "Epoch 80/200\n",
            "11/11 [==============================] - 0s 8ms/step - loss: 1.2306e-05 - val_loss: 1.4805e-04\n",
            "Epoch 81/200\n",
            "11/11 [==============================] - 0s 8ms/step - loss: 1.2259e-05 - val_loss: 6.6997e-05\n",
            "Epoch 82/200\n",
            "11/11 [==============================] - 0s 9ms/step - loss: 1.3457e-05 - val_loss: 6.7175e-05\n",
            "Epoch 83/200\n",
            "11/11 [==============================] - 0s 8ms/step - loss: 1.2446e-05 - val_loss: 1.3888e-04\n",
            "Epoch 84/200\n",
            "11/11 [==============================] - 0s 8ms/step - loss: 1.2039e-05 - val_loss: 2.6412e-05\n",
            "Epoch 85/200\n",
            "11/11 [==============================] - 0s 9ms/step - loss: 1.1120e-05 - val_loss: 3.3317e-05\n",
            "Epoch 86/200\n",
            "11/11 [==============================] - 0s 9ms/step - loss: 1.4845e-05 - val_loss: 9.1246e-05\n",
            "Epoch 87/200\n",
            "11/11 [==============================] - 0s 8ms/step - loss: 1.0310e-05 - val_loss: 1.5495e-04\n",
            "Epoch 88/200\n",
            "11/11 [==============================] - 0s 8ms/step - loss: 1.0947e-05 - val_loss: 1.2239e-04\n",
            "Epoch 89/200\n",
            "11/11 [==============================] - 0s 8ms/step - loss: 1.2315e-05 - val_loss: 1.2843e-04\n",
            "Epoch 90/200\n",
            "11/11 [==============================] - 0s 9ms/step - loss: 1.0163e-05 - val_loss: 1.1808e-04\n",
            "Epoch 91/200\n",
            "11/11 [==============================] - 0s 9ms/step - loss: 1.0177e-05 - val_loss: 1.0803e-04\n",
            "Epoch 92/200\n",
            "11/11 [==============================] - 0s 8ms/step - loss: 1.0579e-05 - val_loss: 7.6591e-05\n",
            "Epoch 93/200\n",
            "11/11 [==============================] - 0s 7ms/step - loss: 1.1698e-05 - val_loss: 2.1386e-04\n",
            "Epoch 94/200\n",
            "11/11 [==============================] - 0s 8ms/step - loss: 1.5590e-05 - val_loss: 7.5489e-05\n",
            "Epoch 95/200\n",
            "11/11 [==============================] - 0s 8ms/step - loss: 9.6525e-06 - val_loss: 3.8248e-05\n",
            "Epoch 96/200\n",
            "11/11 [==============================] - 0s 8ms/step - loss: 1.1222e-05 - val_loss: 1.3907e-04\n",
            "Epoch 97/200\n",
            "11/11 [==============================] - 0s 8ms/step - loss: 1.0971e-05 - val_loss: 1.0381e-04\n",
            "Epoch 98/200\n",
            "11/11 [==============================] - 0s 8ms/step - loss: 1.2023e-05 - val_loss: 4.5287e-05\n",
            "Epoch 99/200\n",
            "11/11 [==============================] - 0s 8ms/step - loss: 9.8202e-06 - val_loss: 6.9755e-05\n",
            "Epoch 100/200\n",
            "11/11 [==============================] - 0s 8ms/step - loss: 9.2145e-06 - val_loss: 8.4460e-05\n",
            "Epoch 101/200\n",
            "11/11 [==============================] - 0s 8ms/step - loss: 8.9196e-06 - val_loss: 4.7501e-05\n",
            "Epoch 102/200\n",
            "11/11 [==============================] - 0s 8ms/step - loss: 9.2434e-06 - val_loss: 2.8946e-05\n",
            "Epoch 103/200\n",
            "11/11 [==============================] - 0s 8ms/step - loss: 1.0212e-05 - val_loss: 1.1973e-04\n",
            "Epoch 104/200\n",
            "11/11 [==============================] - 0s 8ms/step - loss: 8.3510e-06 - val_loss: 1.1469e-04\n",
            "Epoch 105/200\n",
            "11/11 [==============================] - 0s 9ms/step - loss: 9.6735e-06 - val_loss: 9.2282e-05\n",
            "Epoch 106/200\n",
            "11/11 [==============================] - 0s 8ms/step - loss: 9.7881e-06 - val_loss: 6.8211e-05\n",
            "Epoch 107/200\n",
            "11/11 [==============================] - 0s 8ms/step - loss: 8.9965e-06 - val_loss: 5.2705e-05\n",
            "Epoch 108/200\n",
            "11/11 [==============================] - 0s 9ms/step - loss: 8.7468e-06 - val_loss: 4.9028e-05\n",
            "Epoch 109/200\n",
            "11/11 [==============================] - 0s 8ms/step - loss: 8.3466e-06 - val_loss: 8.4822e-05\n",
            "Epoch 110/200\n",
            "11/11 [==============================] - 0s 7ms/step - loss: 8.1415e-06 - val_loss: 9.8707e-05\n",
            "Epoch 111/200\n",
            "11/11 [==============================] - 0s 7ms/step - loss: 8.2601e-06 - val_loss: 2.4488e-05\n",
            "Epoch 112/200\n",
            "11/11 [==============================] - 0s 7ms/step - loss: 9.4950e-06 - val_loss: 7.3266e-05\n",
            "Epoch 113/200\n",
            "11/11 [==============================] - 0s 8ms/step - loss: 7.5265e-06 - val_loss: 3.1587e-05\n",
            "Epoch 114/200\n",
            "11/11 [==============================] - 0s 8ms/step - loss: 1.2714e-05 - val_loss: 9.6809e-05\n",
            "Epoch 115/200\n",
            "11/11 [==============================] - 0s 9ms/step - loss: 1.0817e-05 - val_loss: 4.4601e-05\n",
            "Epoch 116/200\n",
            "11/11 [==============================] - 0s 9ms/step - loss: 1.1934e-05 - val_loss: 2.8676e-05\n",
            "Epoch 117/200\n",
            "11/11 [==============================] - 0s 8ms/step - loss: 1.1263e-05 - val_loss: 2.0622e-06\n",
            "Epoch 118/200\n",
            "11/11 [==============================] - 0s 8ms/step - loss: 1.7830e-05 - val_loss: 2.0124e-05\n",
            "Epoch 119/200\n",
            "11/11 [==============================] - 0s 9ms/step - loss: 1.0192e-05 - val_loss: 3.6252e-05\n",
            "Epoch 120/200\n",
            "11/11 [==============================] - 0s 8ms/step - loss: 8.8831e-06 - val_loss: 1.8352e-04\n",
            "Epoch 121/200\n",
            "11/11 [==============================] - 0s 9ms/step - loss: 1.2003e-05 - val_loss: 2.2626e-05\n",
            "Epoch 122/200\n",
            "11/11 [==============================] - 0s 8ms/step - loss: 8.1981e-06 - val_loss: 4.8465e-05\n",
            "Epoch 123/200\n",
            "11/11 [==============================] - 0s 8ms/step - loss: 8.9036e-06 - val_loss: 1.0316e-04\n",
            "Epoch 124/200\n",
            "11/11 [==============================] - 0s 8ms/step - loss: 9.1783e-06 - val_loss: 6.7825e-05\n",
            "Epoch 125/200\n",
            "11/11 [==============================] - 0s 8ms/step - loss: 6.8599e-06 - val_loss: 7.1396e-05\n",
            "Epoch 126/200\n",
            "11/11 [==============================] - 0s 8ms/step - loss: 6.8103e-06 - val_loss: 1.3036e-05\n",
            "Epoch 127/200\n",
            "11/11 [==============================] - 0s 8ms/step - loss: 7.2889e-06 - val_loss: 9.5923e-05\n",
            "Epoch 128/200\n",
            "11/11 [==============================] - 0s 8ms/step - loss: 6.5009e-06 - val_loss: 9.8614e-05\n",
            "Epoch 129/200\n",
            "11/11 [==============================] - 0s 10ms/step - loss: 7.0470e-06 - val_loss: 3.4454e-05\n",
            "Epoch 130/200\n",
            "11/11 [==============================] - 0s 9ms/step - loss: 9.7024e-06 - val_loss: 8.4045e-05\n",
            "Epoch 131/200\n",
            "11/11 [==============================] - 0s 8ms/step - loss: 6.8069e-06 - val_loss: 7.6666e-05\n",
            "Epoch 132/200\n",
            "11/11 [==============================] - 0s 8ms/step - loss: 1.5288e-05 - val_loss: 2.2230e-05\n",
            "Epoch 133/200\n",
            "11/11 [==============================] - 0s 8ms/step - loss: 2.9343e-05 - val_loss: 1.2317e-05\n",
            "Epoch 134/200\n",
            "11/11 [==============================] - 0s 9ms/step - loss: 7.6946e-06 - val_loss: 1.0519e-04\n",
            "Epoch 135/200\n",
            "11/11 [==============================] - 0s 9ms/step - loss: 8.0123e-06 - val_loss: 8.4325e-05\n",
            "Epoch 136/200\n",
            "11/11 [==============================] - 0s 8ms/step - loss: 6.0653e-06 - val_loss: 6.9436e-05\n",
            "Epoch 137/200\n",
            "11/11 [==============================] - 0s 8ms/step - loss: 5.3558e-06 - val_loss: 1.1909e-05\n",
            "Epoch 138/200\n",
            "11/11 [==============================] - 0s 8ms/step - loss: 5.6757e-06 - val_loss: 7.5435e-05\n",
            "Epoch 139/200\n",
            "11/11 [==============================] - 0s 8ms/step - loss: 5.9888e-06 - val_loss: 4.6786e-05\n",
            "Epoch 140/200\n",
            "11/11 [==============================] - 0s 9ms/step - loss: 4.9117e-06 - val_loss: 8.0196e-05\n",
            "Epoch 141/200\n",
            "11/11 [==============================] - 0s 9ms/step - loss: 6.6334e-06 - val_loss: 6.9563e-05\n",
            "Epoch 142/200\n",
            "11/11 [==============================] - 0s 8ms/step - loss: 5.2255e-06 - val_loss: 8.4345e-06\n",
            "Epoch 143/200\n",
            "11/11 [==============================] - 0s 9ms/step - loss: 7.5118e-06 - val_loss: 8.3502e-05\n",
            "Epoch 144/200\n",
            "11/11 [==============================] - 0s 9ms/step - loss: 6.1659e-06 - val_loss: 5.5413e-05\n",
            "Epoch 145/200\n",
            "11/11 [==============================] - 0s 8ms/step - loss: 4.7033e-06 - val_loss: 1.1803e-05\n",
            "Epoch 146/200\n",
            "11/11 [==============================] - 0s 8ms/step - loss: 6.4353e-06 - val_loss: 3.1081e-05\n",
            "Epoch 147/200\n",
            "11/11 [==============================] - 0s 8ms/step - loss: 5.2217e-06 - val_loss: 2.0457e-05\n",
            "Epoch 148/200\n",
            "11/11 [==============================] - 0s 8ms/step - loss: 7.1783e-06 - val_loss: 3.9459e-05\n",
            "Epoch 149/200\n",
            "11/11 [==============================] - 0s 9ms/step - loss: 5.2265e-06 - val_loss: 8.1027e-05\n",
            "Epoch 150/200\n",
            "11/11 [==============================] - 0s 8ms/step - loss: 5.8300e-06 - val_loss: 4.0117e-05\n",
            "Epoch 151/200\n",
            "11/11 [==============================] - 0s 8ms/step - loss: 4.2954e-06 - val_loss: 3.9139e-05\n",
            "Epoch 152/200\n",
            "11/11 [==============================] - 0s 8ms/step - loss: 4.3705e-06 - val_loss: 7.2913e-05\n",
            "Epoch 153/200\n",
            "11/11 [==============================] - 0s 8ms/step - loss: 5.7887e-06 - val_loss: 6.2548e-05\n",
            "Epoch 154/200\n",
            "11/11 [==============================] - 0s 9ms/step - loss: 4.9267e-06 - val_loss: 9.9016e-05\n",
            "Epoch 155/200\n",
            "11/11 [==============================] - 0s 9ms/step - loss: 7.4461e-06 - val_loss: 1.8399e-05\n",
            "Epoch 156/200\n",
            "11/11 [==============================] - 0s 8ms/step - loss: 6.1338e-06 - val_loss: 7.4231e-06\n",
            "Epoch 157/200\n",
            "11/11 [==============================] - 0s 8ms/step - loss: 4.6119e-06 - val_loss: 1.3353e-06\n",
            "Epoch 158/200\n",
            "11/11 [==============================] - 0s 8ms/step - loss: 6.3330e-06 - val_loss: 2.7212e-05\n",
            "Epoch 159/200\n",
            "11/11 [==============================] - 0s 8ms/step - loss: 3.6420e-06 - val_loss: 1.8781e-05\n",
            "Epoch 160/200\n",
            "11/11 [==============================] - 0s 9ms/step - loss: 3.3887e-06 - val_loss: 3.2465e-05\n",
            "Epoch 161/200\n",
            "11/11 [==============================] - 0s 9ms/step - loss: 3.2810e-06 - val_loss: 2.1461e-05\n",
            "Epoch 162/200\n",
            "11/11 [==============================] - 0s 8ms/step - loss: 4.1659e-06 - val_loss: 1.3671e-06\n",
            "Epoch 163/200\n",
            "11/11 [==============================] - 0s 9ms/step - loss: 6.1346e-06 - val_loss: 2.4786e-06\n",
            "Epoch 164/200\n",
            "11/11 [==============================] - 0s 8ms/step - loss: 4.5287e-06 - val_loss: 1.0146e-05\n",
            "Epoch 165/200\n",
            "11/11 [==============================] - 0s 8ms/step - loss: 4.0452e-06 - val_loss: 2.3667e-05\n",
            "Epoch 166/200\n",
            "11/11 [==============================] - 0s 8ms/step - loss: 3.4376e-06 - val_loss: 1.3236e-05\n",
            "Epoch 167/200\n",
            "11/11 [==============================] - 0s 8ms/step - loss: 3.0685e-06 - val_loss: 9.8439e-07\n",
            "Epoch 168/200\n",
            "11/11 [==============================] - 0s 9ms/step - loss: 4.4300e-06 - val_loss: 1.2860e-06\n",
            "Epoch 169/200\n",
            "11/11 [==============================] - 0s 9ms/step - loss: 4.6239e-06 - val_loss: 9.1008e-07\n",
            "Epoch 170/200\n",
            "11/11 [==============================] - 0s 8ms/step - loss: 4.7304e-06 - val_loss: 9.3695e-07\n",
            "Epoch 171/200\n",
            "11/11 [==============================] - 0s 8ms/step - loss: 4.8594e-06 - val_loss: 8.6652e-07\n",
            "Epoch 172/200\n",
            "11/11 [==============================] - 0s 9ms/step - loss: 4.5211e-06 - val_loss: 3.5788e-06\n",
            "Epoch 173/200\n",
            "11/11 [==============================] - 0s 9ms/step - loss: 3.7015e-06 - val_loss: 1.8681e-06\n",
            "Epoch 174/200\n",
            "11/11 [==============================] - 0s 8ms/step - loss: 3.6750e-06 - val_loss: 2.0731e-05\n",
            "Epoch 175/200\n",
            "11/11 [==============================] - 0s 8ms/step - loss: 2.6655e-06 - val_loss: 2.0867e-05\n",
            "Epoch 176/200\n",
            "11/11 [==============================] - 0s 8ms/step - loss: 2.3598e-06 - val_loss: 6.0879e-05\n",
            "Epoch 177/200\n",
            "11/11 [==============================] - 0s 9ms/step - loss: 3.6460e-06 - val_loss: 4.6060e-05\n",
            "Epoch 178/200\n",
            "11/11 [==============================] - 0s 8ms/step - loss: 3.8208e-06 - val_loss: 8.7929e-05\n",
            "Epoch 179/200\n",
            "11/11 [==============================] - 0s 8ms/step - loss: 5.7316e-06 - val_loss: 1.9675e-05\n",
            "Epoch 180/200\n",
            "11/11 [==============================] - 0s 9ms/step - loss: 3.7893e-06 - val_loss: 1.2175e-06\n",
            "Epoch 181/200\n",
            "11/11 [==============================] - 0s 8ms/step - loss: 3.2409e-06 - val_loss: 3.2723e-05\n",
            "Epoch 182/200\n",
            "11/11 [==============================] - 0s 9ms/step - loss: 3.2807e-06 - val_loss: 7.5039e-06\n",
            "Epoch 183/200\n",
            "11/11 [==============================] - 0s 9ms/step - loss: 5.7360e-06 - val_loss: 5.1425e-05\n",
            "Epoch 184/200\n",
            "11/11 [==============================] - 0s 9ms/step - loss: 1.3479e-05 - val_loss: 1.4835e-05\n",
            "Epoch 185/200\n",
            "11/11 [==============================] - 0s 9ms/step - loss: 3.0573e-06 - val_loss: 6.5957e-05\n",
            "Epoch 186/200\n",
            "11/11 [==============================] - 0s 8ms/step - loss: 5.2552e-06 - val_loss: 1.3445e-05\n",
            "Epoch 187/200\n",
            "11/11 [==============================] - 0s 9ms/step - loss: 2.6043e-06 - val_loss: 5.4828e-06\n",
            "Epoch 188/200\n",
            "11/11 [==============================] - 0s 8ms/step - loss: 2.0378e-06 - val_loss: 2.1745e-05\n",
            "Epoch 189/200\n",
            "11/11 [==============================] - 0s 8ms/step - loss: 4.2334e-06 - val_loss: 9.6154e-05\n",
            "Epoch 190/200\n",
            "11/11 [==============================] - 0s 8ms/step - loss: 7.0179e-06 - val_loss: 6.1408e-06\n",
            "Epoch 191/200\n",
            "11/11 [==============================] - 0s 8ms/step - loss: 5.0056e-06 - val_loss: 8.1257e-06\n",
            "Epoch 192/200\n",
            "11/11 [==============================] - 0s 8ms/step - loss: 5.3706e-06 - val_loss: 2.2813e-06\n",
            "Epoch 193/200\n",
            "11/11 [==============================] - 0s 9ms/step - loss: 3.4047e-06 - val_loss: 2.5349e-05\n",
            "Epoch 194/200\n",
            "11/11 [==============================] - 0s 9ms/step - loss: 3.6170e-06 - val_loss: 1.0240e-05\n",
            "Epoch 195/200\n",
            "11/11 [==============================] - 0s 8ms/step - loss: 2.8584e-06 - val_loss: 2.9037e-06\n",
            "Epoch 196/200\n",
            "11/11 [==============================] - 0s 8ms/step - loss: 1.7829e-06 - val_loss: 9.0545e-07\n",
            "Epoch 197/200\n",
            "11/11 [==============================] - 0s 8ms/step - loss: 2.7248e-06 - val_loss: 3.4407e-06\n",
            "Epoch 198/200\n",
            "11/11 [==============================] - 0s 9ms/step - loss: 2.2855e-06 - val_loss: 2.6512e-05\n",
            "Epoch 199/200\n",
            "11/11 [==============================] - 0s 8ms/step - loss: 2.2165e-06 - val_loss: 7.1229e-07\n",
            "Epoch 200/200\n",
            "11/11 [==============================] - 0s 8ms/step - loss: 2.5719e-06 - val_loss: 8.1442e-06\n"
          ],
          "name": "stdout"
        }
      ]
    },
    {
      "cell_type": "markdown",
      "metadata": {
        "id": "e1MzAIBuwt4z"
      },
      "source": [
        "Predicting the training and Testing Model"
      ]
    },
    {
      "cell_type": "code",
      "metadata": {
        "id": "OXgSCq1tgUBT"
      },
      "source": [
        "train_predict = model.predict(X_train)\n",
        "test_predict = model.predict(X_test)"
      ],
      "execution_count": 145,
      "outputs": []
    },
    {
      "cell_type": "markdown",
      "metadata": {
        "id": "r4huF7EEwzEg"
      },
      "source": [
        "COnverting them to its actual values"
      ]
    },
    {
      "cell_type": "code",
      "metadata": {
        "id": "lSExqKPfjW9n"
      },
      "source": [
        "y_train = scaler.inverse_transform(np.array(y_train).reshape(-1, 1))\n",
        "y_test = scaler.inverse_transform(np.array(y_test).reshape(-1, 1))"
      ],
      "execution_count": 146,
      "outputs": []
    },
    {
      "cell_type": "code",
      "metadata": {
        "id": "Lr9mlLAxij2H"
      },
      "source": [
        "train_predict = scaler.inverse_transform(train_predict)\n",
        "test_predict = scaler.inverse_transform(test_predict)"
      ],
      "execution_count": 147,
      "outputs": []
    },
    {
      "cell_type": "markdown",
      "metadata": {
        "id": "Qbx_TqItzFBS"
      },
      "source": [
        "**Checking the Variation of both the y_train and trained y_predicted by plotting the graph of sequences**"
      ]
    },
    {
      "cell_type": "code",
      "metadata": {
        "colab": {
          "base_uri": "https://localhost:8080/",
          "height": 293
        },
        "id": "lYn_REaVzEZ2",
        "outputId": "8ee113cb-1b37-4b2c-8ce9-a2c16f844ab7"
      },
      "source": [
        "plt.plot(y_train, 'g')"
      ],
      "execution_count": 150,
      "outputs": [
        {
          "output_type": "execute_result",
          "data": {
            "text/plain": [
              "[<matplotlib.lines.Line2D at 0x7f569ba0f390>]"
            ]
          },
          "metadata": {
            "tags": []
          },
          "execution_count": 150
        },
        {
          "output_type": "display_data",
          "data": {
            "image/png": "[encoded data removed]",
            "text/plain": [
              "<Figure size 432x288 with 1 Axes>"
            ]
          },
          "metadata": {
            "tags": [],
            "needs_background": "light"
          }
        }
      ]
    },
    {
      "cell_type": "code",
      "metadata": {
        "colab": {
          "base_uri": "https://localhost:8080/",
          "height": 293
        },
        "id": "-qJHBWBrzEcz",
        "outputId": "58e31431-4d75-42fc-ebaa-694cccd354f8"
      },
      "source": [
        "plt.plot(train_predict, 'r')"
      ],
      "execution_count": 151,
      "outputs": [
        {
          "output_type": "execute_result",
          "data": {
            "text/plain": [
              "[<matplotlib.lines.Line2D at 0x7f569bf5d0d0>]"
            ]
          },
          "metadata": {
            "tags": []
          },
          "execution_count": 151
        },
        {
          "output_type": "display_data",
          "data": {
            "image/png": "[encoded data removed]",
            "text/plain": [
              "<Figure size 432x288 with 1 Axes>"
            ]
          },
          "metadata": {
            "tags": [],
            "needs_background": "light"
          }
        }
      ]
    },
    {
      "cell_type": "markdown",
      "metadata": {
        "id": "wj44TauUzcMl"
      },
      "source": [
        "**It comes out the the y-Trained and y_predicted trained are almost similar**"
      ]
    },
    {
      "cell_type": "markdown",
      "metadata": {
        "id": "mtrVgN-jyLfR"
      },
      "source": [
        "**Checking the Variation of both the y_test and y_predicted by plotting the graph of sequences**"
      ]
    },
    {
      "cell_type": "code",
      "metadata": {
        "colab": {
          "base_uri": "https://localhost:8080/",
          "height": 285
        },
        "id": "znXj86BVomvT",
        "outputId": "33e5c404-0e29-4eac-f896-203dc253a927"
      },
      "source": [
        "plt.plot(y_test, 'r')"
      ],
      "execution_count": 142,
      "outputs": [
        {
          "output_type": "execute_result",
          "data": {
            "text/plain": [
              "[<matplotlib.lines.Line2D at 0x7f569d2ee710>]"
            ]
          },
          "metadata": {
            "tags": []
          },
          "execution_count": 142
        },
        {
          "output_type": "display_data",
          "data": {
            "image/png": "[encoded data removed]",
            "text/plain": [
              "<Figure size 432x288 with 1 Axes>"
            ]
          },
          "metadata": {
            "tags": [],
            "needs_background": "light"
          }
        }
      ]
    },
    {
      "cell_type": "code",
      "metadata": {
        "colab": {
          "base_uri": "https://localhost:8080/",
          "height": 293
        },
        "id": "cvkkvAdtoOoO",
        "outputId": "c9be5f24-8855-4dd0-e67f-3bb304c2633e"
      },
      "source": [
        "plt.plot(test_predict)"
      ],
      "execution_count": 143,
      "outputs": [
        {
          "output_type": "execute_result",
          "data": {
            "text/plain": [
              "[<matplotlib.lines.Line2D at 0x7f569d8d3750>]"
            ]
          },
          "metadata": {
            "tags": []
          },
          "execution_count": 143
        },
        {
          "output_type": "display_data",
          "data": {
            "image/png": "[encoded data removed]",
            "text/plain": [
              "<Figure size 432x288 with 1 Axes>"
            ]
          },
          "metadata": {
            "tags": [],
            "needs_background": "light"
          }
        }
      ]
    },
    {
      "cell_type": "markdown",
      "metadata": {
        "id": "3Su67bKtznY5"
      },
      "source": [
        "**It comes out the the y-test and y_predicted for test dataset are almost similar**"
      ]
    },
    {
      "cell_type": "code",
      "metadata": {
        "id": "DnEnJe-Gl2Me"
      },
      "source": [
        ""
      ],
      "execution_count": null,
      "outputs": []
    }
  ]
}